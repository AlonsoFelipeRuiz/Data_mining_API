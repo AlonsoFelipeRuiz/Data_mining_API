{
 "cells": [
  {
   "cell_type": "markdown",
   "metadata": {},
   "source": [
    "<img src=\"http://www.cidaen.es/assets/img/mCIDaeNnb.png\" alt=\"Logo CiDAEN\" align=\"right\">\n",
    "\n",
    "\n",
    "\n",
    "\n",
    "<br><br><br>\n",
    "<h2><font color=\"#00586D\" size=4>Módulo 8</font></h2>\n",
    "\n",
    "\n",
    "\n",
    "<h1><font color=\"#00586D\" size=5>Sistema de recomendación de libros</font></h1>\n",
    "\n",
    "<br><br><br>\n",
    "<div style=\"text-align: right\">\n",
    "<font color=\"#00586D\" size=3>Luis de la Ossa</font><br>\n",
    "<font color=\"#00586D\" size=3>Máster en Ciencia de Datos e Ingeniería de Datos en la Nube</font><br>\n",
    "<font color=\"#00586D\" size=3>Universidad de Castilla-La Mancha</font>\n",
    "\n",
    "</div>"
   ]
  },
  {
   "cell_type": "markdown",
   "metadata": {},
   "source": [
    "---\n",
    "\n",
    "<a id=\"indice\"></a>\n",
    "<h2><font color=\"#00586D\" size=5>Índice</font></h2>\n",
    "\n",
    "\n",
    "* [1. Introducción](#section1)\n",
    "   * [Lectura de las revisiones](#section11)\n",
    "   * [Etiquetas](#section12)\n",
    "   * [Preparación de los datos](#section13)\n",
    "* [2. Limpieza del texto](#section2)\n",
    "* [3. Búsqueda por similaridad de la representación tf-idf](#section3)\n",
    "* [4. Recomendación basada en contenido](#section4)\n",
    "   * [Selección de libros preferidos por el usuario](#section41)\n",
    "   * [Búsqueda de libros similares](#section42)\n",
    "   * [Priorización de resultados y recomendación](#section43)\n",
    "* [5. Sistema híbrido de recomendación](#section5)  \n",
    "* [6. LDA y búsqueda por similaridad](#section6)\n",
    "* [Anexo. Obtención de los resúmenes mediante scraping](#Anexo)\n",
    "<br>"
   ]
  },
  {
   "cell_type": "code",
   "execution_count": 1,
   "metadata": {},
   "outputs": [
    {
     "data": {
      "text/html": [
       "<style>.container { width:95% !important; }</style>"
      ],
      "text/plain": [
       "<IPython.core.display.HTML object>"
      ]
     },
     "metadata": {},
     "output_type": "display_data"
    }
   ],
   "source": [
    "# Permite establecer la anchura de la celda\n",
    "from IPython.core.display import display, HTML\n",
    "display(HTML(\"<style>.container { width:95% !important; }</style>\"))\n",
    "# Algunas inconsistencias con las versiones dan lugar a avisos molestos. Se ignoran.\n",
    "import warnings\n",
    "warnings.filterwarnings('ignore')"
   ]
  },
  {
   "cell_type": "markdown",
   "metadata": {},
   "source": [
    "<a id=\"section1\"></a>\n",
    "## <font color=\"#00586D\"> 1. Introducción</font>\n",
    "<br>\n",
    "\n",
    "Los sistemas de recomendación basados en filtrado colaborativo utilizan de manera exclusiva los perfiles de votación de usuarios/items, y no consideran el contenido. Como se vió en clase,  permiten obtener resultados que, si bien cualitativamente son aceptables, pueden llegar a desconcertar al no corresponderse con lo esperado. \n",
    "\n",
    "En este proyecto se diseñará un pequeño sistema de recomendación de libros basado en contenido. Para ello, será necesario hacer uso de algunos de los conceptos relaccionados con aprendizaje automático sobre información textual (_Text Mining_) que han sido tratados también a lo largo del módulo. \n",
    "\n",
    "Como punto de partida, se partirá del conjunto de datos [goodbooks-10k](https://www.kaggle.com/zygmunt/goodbooks-10k) disponible en [kaggle](https://www.kaggle.com). Éste contiene información relativa a 10000 libros obtenida de la red social  [goodreads](http://goodreads.com), que actualmente es el sitio de referencia en la red para aficcionados a la lectura. Además de títulos y autores, el conjunto de datos incluye votos y etiquetas aportadas por más de 53000 usuarios. \n",
    "\n",
    "<div class=\"alert alert-block alert-warning\">\n",
    "<i class=\"fa fa-exclamation-circle\" aria-hidden=\"true\"></i>\n",
    "Se han hecho algunas modificaciones con respecto a la base original para que sea menos tedioso manejar los distintos índices e identificadores. \n",
    "</div>"
   ]
  },
  {
   "cell_type": "code",
   "execution_count": 2,
   "metadata": {},
   "outputs": [
    {
     "data": {
      "text/html": [
       "<div>\n",
       "<style scoped>\n",
       "    .dataframe tbody tr th:only-of-type {\n",
       "        vertical-align: middle;\n",
       "    }\n",
       "\n",
       "    .dataframe tbody tr th {\n",
       "        vertical-align: top;\n",
       "    }\n",
       "\n",
       "    .dataframe thead th {\n",
       "        text-align: right;\n",
       "    }\n",
       "</style>\n",
       "<table border=\"1\" class=\"dataframe\">\n",
       "  <thead>\n",
       "    <tr style=\"text-align: right;\">\n",
       "      <th></th>\n",
       "      <th>gr_book_id</th>\n",
       "      <th>gr_best_book_id</th>\n",
       "      <th>work_id</th>\n",
       "      <th>books_count</th>\n",
       "      <th>isbn</th>\n",
       "      <th>isbn13</th>\n",
       "      <th>authors</th>\n",
       "      <th>original_publication_year</th>\n",
       "      <th>original_title</th>\n",
       "      <th>title</th>\n",
       "      <th>...</th>\n",
       "      <th>ratings_count</th>\n",
       "      <th>work_ratings_count</th>\n",
       "      <th>work_text_reviews_count</th>\n",
       "      <th>ratings_1</th>\n",
       "      <th>ratings_2</th>\n",
       "      <th>ratings_3</th>\n",
       "      <th>ratings_4</th>\n",
       "      <th>ratings_5</th>\n",
       "      <th>image_url</th>\n",
       "      <th>small_image_url</th>\n",
       "    </tr>\n",
       "    <tr>\n",
       "      <th>book_id</th>\n",
       "      <th></th>\n",
       "      <th></th>\n",
       "      <th></th>\n",
       "      <th></th>\n",
       "      <th></th>\n",
       "      <th></th>\n",
       "      <th></th>\n",
       "      <th></th>\n",
       "      <th></th>\n",
       "      <th></th>\n",
       "      <th></th>\n",
       "      <th></th>\n",
       "      <th></th>\n",
       "      <th></th>\n",
       "      <th></th>\n",
       "      <th></th>\n",
       "      <th></th>\n",
       "      <th></th>\n",
       "      <th></th>\n",
       "      <th></th>\n",
       "      <th></th>\n",
       "    </tr>\n",
       "  </thead>\n",
       "  <tbody>\n",
       "    <tr>\n",
       "      <th>0</th>\n",
       "      <td>2767052</td>\n",
       "      <td>2767052</td>\n",
       "      <td>2792775</td>\n",
       "      <td>272</td>\n",
       "      <td>439023483</td>\n",
       "      <td>9.780439e+12</td>\n",
       "      <td>Suzanne Collins</td>\n",
       "      <td>2008.0</td>\n",
       "      <td>The Hunger Games</td>\n",
       "      <td>The Hunger Games (The Hunger Games, #1)</td>\n",
       "      <td>...</td>\n",
       "      <td>4780653</td>\n",
       "      <td>4942365</td>\n",
       "      <td>155254</td>\n",
       "      <td>66715</td>\n",
       "      <td>127936</td>\n",
       "      <td>560092</td>\n",
       "      <td>1481305</td>\n",
       "      <td>2706317</td>\n",
       "      <td>https://images.gr-assets.com/books/1447303603m...</td>\n",
       "      <td>https://images.gr-assets.com/books/1447303603s...</td>\n",
       "    </tr>\n",
       "    <tr>\n",
       "      <th>1</th>\n",
       "      <td>3</td>\n",
       "      <td>3</td>\n",
       "      <td>4640799</td>\n",
       "      <td>491</td>\n",
       "      <td>439554934</td>\n",
       "      <td>9.780440e+12</td>\n",
       "      <td>J.K. Rowling, Mary GrandPré</td>\n",
       "      <td>1997.0</td>\n",
       "      <td>Harry Potter and the Philosopher's Stone</td>\n",
       "      <td>Harry Potter and the Sorcerer's Stone (Harry P...</td>\n",
       "      <td>...</td>\n",
       "      <td>4602479</td>\n",
       "      <td>4800065</td>\n",
       "      <td>75867</td>\n",
       "      <td>75504</td>\n",
       "      <td>101676</td>\n",
       "      <td>455024</td>\n",
       "      <td>1156318</td>\n",
       "      <td>3011543</td>\n",
       "      <td>https://images.gr-assets.com/books/1474154022m...</td>\n",
       "      <td>https://images.gr-assets.com/books/1474154022s...</td>\n",
       "    </tr>\n",
       "  </tbody>\n",
       "</table>\n",
       "<p>2 rows × 22 columns</p>\n",
       "</div>"
      ],
      "text/plain": [
       "         gr_book_id  gr_best_book_id  work_id  books_count       isbn  \\\n",
       "book_id                                                                 \n",
       "0           2767052          2767052  2792775          272  439023483   \n",
       "1                 3                3  4640799          491  439554934   \n",
       "\n",
       "               isbn13                      authors  original_publication_year  \\\n",
       "book_id                                                                         \n",
       "0        9.780439e+12              Suzanne Collins                     2008.0   \n",
       "1        9.780440e+12  J.K. Rowling, Mary GrandPré                     1997.0   \n",
       "\n",
       "                                   original_title  \\\n",
       "book_id                                             \n",
       "0                                The Hunger Games   \n",
       "1        Harry Potter and the Philosopher's Stone   \n",
       "\n",
       "                                                     title  ... ratings_count  \\\n",
       "book_id                                                     ...                 \n",
       "0                  The Hunger Games (The Hunger Games, #1)  ...       4780653   \n",
       "1        Harry Potter and the Sorcerer's Stone (Harry P...  ...       4602479   \n",
       "\n",
       "         work_ratings_count  work_text_reviews_count  ratings_1  ratings_2  \\\n",
       "book_id                                                                      \n",
       "0                   4942365                   155254      66715     127936   \n",
       "1                   4800065                    75867      75504     101676   \n",
       "\n",
       "         ratings_3  ratings_4  ratings_5  \\\n",
       "book_id                                    \n",
       "0           560092    1481305    2706317   \n",
       "1           455024    1156318    3011543   \n",
       "\n",
       "                                                 image_url  \\\n",
       "book_id                                                      \n",
       "0        https://images.gr-assets.com/books/1447303603m...   \n",
       "1        https://images.gr-assets.com/books/1474154022m...   \n",
       "\n",
       "                                           small_image_url  \n",
       "book_id                                                     \n",
       "0        https://images.gr-assets.com/books/1447303603s...  \n",
       "1        https://images.gr-assets.com/books/1474154022s...  \n",
       "\n",
       "[2 rows x 22 columns]"
      ]
     },
     "execution_count": 2,
     "metadata": {},
     "output_type": "execute_result"
    }
   ],
   "source": [
    "import pandas as pd\n",
    "import numpy as np\n",
    "\n",
    "df_goodreads = pd.read_csv('data/books.csv', sep=\"\\t\", index_col=0)\n",
    "df_goodreads.head(2)"
   ]
  },
  {
   "cell_type": "markdown",
   "metadata": {},
   "source": [
    "<div style=\"text-align: right\">\n",
    "<a href=\"#indice\"><font size=5><i class=\"fa fa-arrow-circle-up\" aria-hidden=\"true\" style=\"color:#00586D\"></i></font></a>\n",
    "</div>\n",
    "\n",
    "---\n",
    "\n",
    "<a id=\"section11\"></a> \n",
    "###  <font color=\"#00586D\"> Lectura de las revisiones </font>\n",
    "<br>\n",
    "\n",
    "Los datos de la tabla apenas contienen información relativa al contenido de cada libro. Sin embargo, es posible acceder a los resúmenes almacenados en la propia web [GoodReads](www.goodreads.com) que, en cierto grado, aportan esta información. En el [anexo](#Anexo) se adjunta la función utilizada para obtenerlos. \n",
    "\n",
    "El resumen de cada libro ha sido almacenado en un archivo de texto denominado `./data/overviews/bookid.txt`, donde _bookid_ corresponde al identificador del libro (columna `book_id` de `df_goodreads`). \n",
    "\n",
    "<font color=\"#00586D\"> <i class=\"fa fa-pencil-square-o\" aria-hidden=\"true\" style=\"color:#00586D\"></i></font> Implementar una función, denominada `get_overview(gr_book_id)`, que reciba el identificador de un libro, lea el archivo de texto que contiene el resumen correspondiente y lo devuelva en un _String_ (o devuelva `None` si este resumen no existe). "
   ]
  },
  {
   "cell_type": "code",
   "execution_count": 3,
   "metadata": {},
   "outputs": [
    {
     "data": {
      "text/plain": [
       "'(Book Jacket Status: Jacketed)The brilliant, bestselling, landmark novel that tells the story of the Buendia family, and chronicles the irreconcilable conflict between the desire for solitude and the need for love—in rich, imaginative prose that has come to define an entire genre known as \"magical realism.\"'"
      ]
     },
     "execution_count": 3,
     "metadata": {},
     "output_type": "execute_result"
    }
   ],
   "source": [
    "def get_overview(gr_book_id):\n",
    "    file=str(\"./data/overviews/\"+str(gr_book_id)+\".txt\")\n",
    "    try:\n",
    "        with open(file, \"r\") as f:\n",
    "            data = f.readlines()\n",
    "            data=data[0]\n",
    "    except:\n",
    "        data=\"\"\n",
    "    return data\n",
    "    \n",
    "get_overview(320) # Cien años de soledad (Gabriel García Márquez)"
   ]
  },
  {
   "cell_type": "markdown",
   "metadata": {},
   "source": [
    "<font color=\"#00586D\"> <i class=\"fa fa-pencil-square-o\" aria-hidden=\"true\" style=\"color:#00586D\"></i></font> Crear una columna en `df_goodreads`, denominada `overview`, que contenga la revisión del libro correspondiente. Rellenar los valores vacíos de esa columna con un _String_ de longitud cero (\"\")."
   ]
  },
  {
   "cell_type": "code",
   "execution_count": 4,
   "metadata": {},
   "outputs": [],
   "source": [
    "df_goodreads[\"overview\"]=df_goodreads[\"gr_book_id\"].apply(lambda x: get_overview(x))"
   ]
  },
  {
   "cell_type": "markdown",
   "metadata": {},
   "source": [
    "<div style=\"text-align: right\">\n",
    "<a href=\"#indice\"><font size=5><i class=\"fa fa-arrow-circle-up\" aria-hidden=\"true\" style=\"color:#00586D\"></i></font></a>\n",
    "</div>\n",
    "\n",
    "---\n",
    "\n",
    "<a id=\"section12\"></a> \n",
    "###  <font color=\"#00586D\">Etiquetas </font>\n",
    "<br>\n",
    "\n",
    "\n",
    "En el conjunto de datos se proporcionan etiquetas relativas a cada libro que han sido aportadas por los usuarios. Esta información está incluída en dos archivos. El primero de ellos, `tags.csv`, contiene el identificador de cada etiqueta y el código correspondiente. El segundo, `book_tags.csv` contiene las etiquetas relativas a cada libro. Se almacenarán, respectivamente, en los _DataFrame_ `df_tags` y `df_book_tags`."
   ]
  },
  {
   "cell_type": "code",
   "execution_count": 5,
   "metadata": {},
   "outputs": [],
   "source": [
    "df_tags = pd.read_csv('./data/tags.csv')\n",
    "df_book_tags = pd.read_csv('./data/book_tags.csv')"
   ]
  },
  {
   "cell_type": "code",
   "execution_count": 6,
   "metadata": {},
   "outputs": [
    {
     "name": "stdout",
     "output_type": "stream",
     "text": [
      "Etiquetas:  (34252, 2)\n"
     ]
    },
    {
     "data": {
      "text/html": [
       "<div>\n",
       "<style scoped>\n",
       "    .dataframe tbody tr th:only-of-type {\n",
       "        vertical-align: middle;\n",
       "    }\n",
       "\n",
       "    .dataframe tbody tr th {\n",
       "        vertical-align: top;\n",
       "    }\n",
       "\n",
       "    .dataframe thead th {\n",
       "        text-align: right;\n",
       "    }\n",
       "</style>\n",
       "<table border=\"1\" class=\"dataframe\">\n",
       "  <thead>\n",
       "    <tr style=\"text-align: right;\">\n",
       "      <th></th>\n",
       "      <th>tag_id</th>\n",
       "      <th>tag_name</th>\n",
       "    </tr>\n",
       "  </thead>\n",
       "  <tbody>\n",
       "    <tr>\n",
       "      <th>2000</th>\n",
       "      <td>2000</td>\n",
       "      <td>alex-read</td>\n",
       "    </tr>\n",
       "    <tr>\n",
       "      <th>2001</th>\n",
       "      <td>2001</td>\n",
       "      <td>alex-rider</td>\n",
       "    </tr>\n",
       "  </tbody>\n",
       "</table>\n",
       "</div>"
      ],
      "text/plain": [
       "      tag_id    tag_name\n",
       "2000    2000   alex-read\n",
       "2001    2001  alex-rider"
      ]
     },
     "metadata": {},
     "output_type": "display_data"
    },
    {
     "name": "stdout",
     "output_type": "stream",
     "text": [
      "\n",
      "   -----------    \n",
      "\n",
      "Etiquetas/libro:  (999912, 3)\n"
     ]
    },
    {
     "data": {
      "text/html": [
       "<div>\n",
       "<style scoped>\n",
       "    .dataframe tbody tr th:only-of-type {\n",
       "        vertical-align: middle;\n",
       "    }\n",
       "\n",
       "    .dataframe tbody tr th {\n",
       "        vertical-align: top;\n",
       "    }\n",
       "\n",
       "    .dataframe thead th {\n",
       "        text-align: right;\n",
       "    }\n",
       "</style>\n",
       "<table border=\"1\" class=\"dataframe\">\n",
       "  <thead>\n",
       "    <tr style=\"text-align: right;\">\n",
       "      <th></th>\n",
       "      <th>gr_book_id</th>\n",
       "      <th>tag_id</th>\n",
       "      <th>count</th>\n",
       "    </tr>\n",
       "  </thead>\n",
       "  <tbody>\n",
       "    <tr>\n",
       "      <th>0</th>\n",
       "      <td>1</td>\n",
       "      <td>30574</td>\n",
       "      <td>167697</td>\n",
       "    </tr>\n",
       "    <tr>\n",
       "      <th>1</th>\n",
       "      <td>1</td>\n",
       "      <td>11305</td>\n",
       "      <td>37174</td>\n",
       "    </tr>\n",
       "    <tr>\n",
       "      <th>2</th>\n",
       "      <td>1</td>\n",
       "      <td>11557</td>\n",
       "      <td>34173</td>\n",
       "    </tr>\n",
       "  </tbody>\n",
       "</table>\n",
       "</div>"
      ],
      "text/plain": [
       "   gr_book_id  tag_id   count\n",
       "0           1   30574  167697\n",
       "1           1   11305   37174\n",
       "2           1   11557   34173"
      ]
     },
     "metadata": {},
     "output_type": "display_data"
    }
   ],
   "source": [
    "print(\"Etiquetas: \",df_tags.shape)\n",
    "display(df_tags.iloc[2000:2002])\n",
    "print(\"\\n   -----------    \\n\")\n",
    "print(\"Etiquetas/libro: \",df_book_tags.shape)\n",
    "display(df_book_tags.head(3))"
   ]
  },
  {
   "cell_type": "markdown",
   "metadata": {},
   "source": [
    "<font color=\"#00586D\"> <i class=\"fa fa-pencil-square-o\" aria-hidden=\"true\" style=\"color:#00586D\"></i></font> Incorporar el campo `tag_name` de `df_tags` a `df_book_tags`, sustituyendo el campo `tag_id` por la etiqueta (_String_) correspondiente. Para ello, fundir los dos _DataFrame_ y, posteriormente, eliminar las columnas `count` y `tag_id`."
   ]
  },
  {
   "cell_type": "code",
   "execution_count": 7,
   "metadata": {},
   "outputs": [
    {
     "data": {
      "text/html": [
       "<div>\n",
       "<style scoped>\n",
       "    .dataframe tbody tr th:only-of-type {\n",
       "        vertical-align: middle;\n",
       "    }\n",
       "\n",
       "    .dataframe tbody tr th {\n",
       "        vertical-align: top;\n",
       "    }\n",
       "\n",
       "    .dataframe thead th {\n",
       "        text-align: right;\n",
       "    }\n",
       "</style>\n",
       "<table border=\"1\" class=\"dataframe\">\n",
       "  <thead>\n",
       "    <tr style=\"text-align: right;\">\n",
       "      <th></th>\n",
       "      <th>tag_name</th>\n",
       "      <th>gr_book_id</th>\n",
       "    </tr>\n",
       "  </thead>\n",
       "  <tbody>\n",
       "    <tr>\n",
       "      <th>999907</th>\n",
       "      <td>Ｆａｖｏｒｉｔｅｓ</td>\n",
       "      <td>8520610</td>\n",
       "    </tr>\n",
       "    <tr>\n",
       "      <th>999908</th>\n",
       "      <td>Ｆａｖｏｒｉｔｅｓ</td>\n",
       "      <td>9361589</td>\n",
       "    </tr>\n",
       "    <tr>\n",
       "      <th>999909</th>\n",
       "      <td>Ｍａｎｇａ</td>\n",
       "      <td>248871</td>\n",
       "    </tr>\n",
       "    <tr>\n",
       "      <th>999910</th>\n",
       "      <td>ＳＥＲＩＥＳ</td>\n",
       "      <td>28866</td>\n",
       "    </tr>\n",
       "    <tr>\n",
       "      <th>999911</th>\n",
       "      <td>ｆａｖｏｕｒｉｔｅｓ</td>\n",
       "      <td>9361589</td>\n",
       "    </tr>\n",
       "  </tbody>\n",
       "</table>\n",
       "</div>"
      ],
      "text/plain": [
       "          tag_name  gr_book_id\n",
       "999907   Ｆａｖｏｒｉｔｅｓ     8520610\n",
       "999908   Ｆａｖｏｒｉｔｅｓ     9361589\n",
       "999909       Ｍａｎｇａ      248871\n",
       "999910      ＳＥＲＩＥＳ       28866\n",
       "999911  ｆａｖｏｕｒｉｔｅｓ     9361589"
      ]
     },
     "execution_count": 7,
     "metadata": {},
     "output_type": "execute_result"
    }
   ],
   "source": [
    "df_book_tags=df_tags.set_index(\"tag_id\").join(df_book_tags.set_index(\"tag_id\"))\n",
    "df_book_tags=df_book_tags.reset_index()[[\"tag_name\", \"gr_book_id\"]]\n",
    "df_book_tags\n",
    "df_book_tags.tail()"
   ]
  },
  {
   "cell_type": "markdown",
   "metadata": {},
   "source": [
    "<font color=\"#00586D\"> <i class=\"fa fa-pencil-square-o\" aria-hidden=\"true\" style=\"color:#00586D\"></i></font> Inspeccionar las etiquetas que aparecen en `df_book_tags` y el número de veces que aparece cada una. ¿Deberían eliminarse algunas?"
   ]
  },
  {
   "cell_type": "code",
   "execution_count": 8,
   "metadata": {},
   "outputs": [
    {
     "data": {
      "text/plain": [
       "34252"
      ]
     },
     "execution_count": 8,
     "metadata": {},
     "output_type": "execute_result"
    }
   ],
   "source": [
    "len(df_book_tags[\"tag_name\"].unique())"
   ]
  },
  {
   "cell_type": "code",
   "execution_count": 9,
   "metadata": {},
   "outputs": [
    {
     "data": {
      "text/html": [
       "<div>\n",
       "<style scoped>\n",
       "    .dataframe tbody tr th:only-of-type {\n",
       "        vertical-align: middle;\n",
       "    }\n",
       "\n",
       "    .dataframe tbody tr th {\n",
       "        vertical-align: top;\n",
       "    }\n",
       "\n",
       "    .dataframe thead th {\n",
       "        text-align: right;\n",
       "    }\n",
       "</style>\n",
       "<table border=\"1\" class=\"dataframe\">\n",
       "  <thead>\n",
       "    <tr style=\"text-align: right;\">\n",
       "      <th></th>\n",
       "      <th>gr_book_id</th>\n",
       "    </tr>\n",
       "    <tr>\n",
       "      <th>tag_name</th>\n",
       "      <th></th>\n",
       "    </tr>\n",
       "  </thead>\n",
       "  <tbody>\n",
       "    <tr>\n",
       "      <th>-</th>\n",
       "      <td>7</td>\n",
       "    </tr>\n",
       "    <tr>\n",
       "      <th>--1-</th>\n",
       "      <td>2</td>\n",
       "    </tr>\n",
       "    <tr>\n",
       "      <th>--10-</th>\n",
       "      <td>1</td>\n",
       "    </tr>\n",
       "    <tr>\n",
       "      <th>--12-</th>\n",
       "      <td>1</td>\n",
       "    </tr>\n",
       "    <tr>\n",
       "      <th>--122-</th>\n",
       "      <td>1</td>\n",
       "    </tr>\n",
       "    <tr>\n",
       "      <th>...</th>\n",
       "      <td>...</td>\n",
       "    </tr>\n",
       "    <tr>\n",
       "      <th>Ｃhildrens</th>\n",
       "      <td>5</td>\n",
       "    </tr>\n",
       "    <tr>\n",
       "      <th>Ｆａｖｏｒｉｔｅｓ</th>\n",
       "      <td>10</td>\n",
       "    </tr>\n",
       "    <tr>\n",
       "      <th>Ｍａｎｇａ</th>\n",
       "      <td>1</td>\n",
       "    </tr>\n",
       "    <tr>\n",
       "      <th>ＳＥＲＩＥＳ</th>\n",
       "      <td>1</td>\n",
       "    </tr>\n",
       "    <tr>\n",
       "      <th>ｆａｖｏｕｒｉｔｅｓ</th>\n",
       "      <td>1</td>\n",
       "    </tr>\n",
       "  </tbody>\n",
       "</table>\n",
       "<p>34252 rows × 1 columns</p>\n",
       "</div>"
      ],
      "text/plain": [
       "            gr_book_id\n",
       "tag_name              \n",
       "-                    7\n",
       "--1-                 2\n",
       "--10-                1\n",
       "--12-                1\n",
       "--122-               1\n",
       "...                ...\n",
       "Ｃhildrens            5\n",
       "Ｆａｖｏｒｉｔｅｓ           10\n",
       "Ｍａｎｇａ                1\n",
       "ＳＥＲＩＥＳ               1\n",
       "ｆａｖｏｕｒｉｔｅｓ           1\n",
       "\n",
       "[34252 rows x 1 columns]"
      ]
     },
     "execution_count": 9,
     "metadata": {},
     "output_type": "execute_result"
    }
   ],
   "source": [
    "df_book_tags.groupby('tag_name').count()"
   ]
  },
  {
   "cell_type": "code",
   "execution_count": 10,
   "metadata": {},
   "outputs": [
    {
     "data": {
      "text/plain": [
       "<AxesSubplot:ylabel='Frequency'>"
      ]
     },
     "execution_count": 10,
     "metadata": {},
     "output_type": "execute_result"
    },
    {
     "data": {
      "image/png": "[encoded data removed]",
      "text/plain": [
       "<Figure size 432x288 with 1 Axes>"
      ]
     },
     "metadata": {
      "needs_background": "light"
     },
     "output_type": "display_data"
    }
   ],
   "source": [
    "df_book_tags.groupby('tag_name').count()[\"gr_book_id\"].plot.hist()"
   ]
  },
  {
   "cell_type": "markdown",
   "metadata": {},
   "source": [
    "Una de las cosas que se observan es que hay un alto número de etiquetas que aparecen una vez, y que son irrelevantes, por lo que es mejor ignorarlas. \n",
    "\n",
    "\n",
    "<font color=\"#00586D\"> <i class=\"fa fa-pencil-square-o\" aria-hidden=\"true\" style=\"color:#00586D\"></i></font> Eliminar todas las etiquetas que aparezcan menos de tres veces. \n",
    "\n",
    "<div class=\"alert alert-block alert-warning\">\n",
    "    \n",
    "<i class=\"fa fa-exclamation-circle\" aria-hidden=\"true\"></i> Este ejercicio puede ser complejo, y hay varias formas de hacerlo. Una de ellas es agrupar por `tag_name`, mediante `groupby`, y filtrar con `filter` los grupos con tamaño >=3.\n",
    "</div>"
   ]
  },
  {
   "cell_type": "code",
   "execution_count": 11,
   "metadata": {},
   "outputs": [
    {
     "data": {
      "text/html": [
       "<div>\n",
       "<style scoped>\n",
       "    .dataframe tbody tr th:only-of-type {\n",
       "        vertical-align: middle;\n",
       "    }\n",
       "\n",
       "    .dataframe tbody tr th {\n",
       "        vertical-align: top;\n",
       "    }\n",
       "\n",
       "    .dataframe thead th {\n",
       "        text-align: right;\n",
       "    }\n",
       "</style>\n",
       "<table border=\"1\" class=\"dataframe\">\n",
       "  <thead>\n",
       "    <tr style=\"text-align: right;\">\n",
       "      <th></th>\n",
       "      <th>tag_name</th>\n",
       "      <th>gr_book_id</th>\n",
       "    </tr>\n",
       "  </thead>\n",
       "  <tbody>\n",
       "    <tr>\n",
       "      <th>999904</th>\n",
       "      <td>Ｆａｖｏｒｉｔｅｓ</td>\n",
       "      <td>92121</td>\n",
       "    </tr>\n",
       "    <tr>\n",
       "      <th>999905</th>\n",
       "      <td>Ｆａｖｏｒｉｔｅｓ</td>\n",
       "      <td>1128437</td>\n",
       "    </tr>\n",
       "    <tr>\n",
       "      <th>999906</th>\n",
       "      <td>Ｆａｖｏｒｉｔｅｓ</td>\n",
       "      <td>1971304</td>\n",
       "    </tr>\n",
       "    <tr>\n",
       "      <th>999907</th>\n",
       "      <td>Ｆａｖｏｒｉｔｅｓ</td>\n",
       "      <td>8520610</td>\n",
       "    </tr>\n",
       "    <tr>\n",
       "      <th>999908</th>\n",
       "      <td>Ｆａｖｏｒｉｔｅｓ</td>\n",
       "      <td>9361589</td>\n",
       "    </tr>\n",
       "  </tbody>\n",
       "</table>\n",
       "</div>"
      ],
      "text/plain": [
       "         tag_name  gr_book_id\n",
       "999904  Ｆａｖｏｒｉｔｅｓ       92121\n",
       "999905  Ｆａｖｏｒｉｔｅｓ     1128437\n",
       "999906  Ｆａｖｏｒｉｔｅｓ     1971304\n",
       "999907  Ｆａｖｏｒｉｔｅｓ     8520610\n",
       "999908  Ｆａｖｏｒｉｔｅｓ     9361589"
      ]
     },
     "execution_count": 11,
     "metadata": {},
     "output_type": "execute_result"
    }
   ],
   "source": [
    "df=df_book_tags.groupby('tag_name').count().reset_index()\n",
    "lista=df[df[\"gr_book_id\"]>2][\"tag_name\"].tolist()\n",
    "df_book_tags=df_book_tags[df_book_tags[\"tag_name\"].isin(lista)]\n",
    "df_book_tags.tail()"
   ]
  },
  {
   "cell_type": "markdown",
   "metadata": {},
   "source": [
    "Otro de los problemas que se aprecian es que algunas etiquetas son genéricas, y no corresponden a libros concretos. Por ejemplo palabras como `read-readings` o `favourites`. \n",
    "\n",
    "<font color=\"#00586D\"> <i class=\"fa fa-pencil-square-o\" aria-hidden=\"true\" style=\"color:#00586D\"></i></font> Eliminar todas las etiquetas que contengan estos términos (los términos de la lista `target_tags`).  \n",
    "\n",
    "<div class=\"alert alert-block alert-warning\">\n",
    "\n",
    "<i class=\"fa fa-exclamation-circle\" aria-hidden=\"true\"></i>\n",
    "En este caso, es recomendable no utilizar las etiquetas completas para eliminar así sus variantes también. \n",
    "</div>"
   ]
  },
  {
   "cell_type": "code",
   "execution_count": 12,
   "metadata": {},
   "outputs": [
    {
     "data": {
      "text/html": [
       "<div>\n",
       "<style scoped>\n",
       "    .dataframe tbody tr th:only-of-type {\n",
       "        vertical-align: middle;\n",
       "    }\n",
       "\n",
       "    .dataframe tbody tr th {\n",
       "        vertical-align: top;\n",
       "    }\n",
       "\n",
       "    .dataframe thead th {\n",
       "        text-align: right;\n",
       "    }\n",
       "</style>\n",
       "<table border=\"1\" class=\"dataframe\">\n",
       "  <thead>\n",
       "    <tr style=\"text-align: right;\">\n",
       "      <th></th>\n",
       "      <th>tag_name</th>\n",
       "      <th>gr_book_id</th>\n",
       "    </tr>\n",
       "  </thead>\n",
       "  <tbody>\n",
       "    <tr>\n",
       "      <th>999894</th>\n",
       "      <td>Ｃhildrens</td>\n",
       "      <td>6319</td>\n",
       "    </tr>\n",
       "    <tr>\n",
       "      <th>999895</th>\n",
       "      <td>Ｃhildrens</td>\n",
       "      <td>17061</td>\n",
       "    </tr>\n",
       "    <tr>\n",
       "      <th>999896</th>\n",
       "      <td>Ｃhildrens</td>\n",
       "      <td>39988</td>\n",
       "    </tr>\n",
       "    <tr>\n",
       "      <th>999897</th>\n",
       "      <td>Ｃhildrens</td>\n",
       "      <td>122967</td>\n",
       "    </tr>\n",
       "    <tr>\n",
       "      <th>999898</th>\n",
       "      <td>Ｃhildrens</td>\n",
       "      <td>348573</td>\n",
       "    </tr>\n",
       "  </tbody>\n",
       "</table>\n",
       "</div>"
      ],
      "text/plain": [
       "         tag_name  gr_book_id\n",
       "999894  Ｃhildrens        6319\n",
       "999895  Ｃhildrens       17061\n",
       "999896  Ｃhildrens       39988\n",
       "999897  Ｃhildrens      122967\n",
       "999898  Ｃhildrens      348573"
      ]
     },
     "execution_count": 12,
     "metadata": {},
     "output_type": "execute_result"
    }
   ],
   "source": [
    "target_tags = ['read', 'favo', 'own', 'top', 'book', 'librar']\n",
    "df_book_tags['tag_name']=df_book_tags['tag_name'].replace(to_replace='Ｆａｖｏｒｉｔｅｓ', value='favorites')\n",
    "df_book_tags=df_book_tags[~df_book_tags['tag_name'].str.contains('|'.join(target_tags))]\n",
    "    \n",
    "df_book_tags.tail()"
   ]
  },
  {
   "cell_type": "markdown",
   "metadata": {},
   "source": [
    "Por último,  se creará un `DataFrame` denominado `df_book_tag_text` en el que, para cada libro (indicado por su código `goodreads_book_id`), se añadirá una columna con _un solo campo de texto_, resultado de unir las etiquetas correspondientes.  \n",
    "\n",
    "<font color=\"#00586D\"> <i class=\"fa fa-pencil-square-o\" aria-hidden=\"true\" style=\"color:#00586D\"></i></font> Agrupar las entradas `DataFrame` en `df_book_tags` en función del campo `goodreads_book_id` y unir todas las etiquetas de cada grupo mediante `join`. Almacenar el resultado en un `DataFrame` denominado `df_book_tag_text`.\n",
    "\n",
    "<div class=\"alert alert-block alert-warning\">\n",
    "\n",
    "<i class=\"fa fa-exclamation-circle\" aria-hidden=\"true\"></i>\n",
    "Para pasos posteriores es necesario convertir el resultado resultante, una `Serie`, en un `DataFrame`, mediante `Series.to_frame()`. \n",
    "</div>"
   ]
  },
  {
   "cell_type": "code",
   "execution_count": 13,
   "metadata": {},
   "outputs": [
    {
     "data": {
      "text/html": [
       "<div>\n",
       "<style scoped>\n",
       "    .dataframe tbody tr th:only-of-type {\n",
       "        vertical-align: middle;\n",
       "    }\n",
       "\n",
       "    .dataframe tbody tr th {\n",
       "        vertical-align: top;\n",
       "    }\n",
       "\n",
       "    .dataframe thead th {\n",
       "        text-align: right;\n",
       "    }\n",
       "</style>\n",
       "<table border=\"1\" class=\"dataframe\">\n",
       "  <thead>\n",
       "    <tr style=\"text-align: right;\">\n",
       "      <th></th>\n",
       "      <th>tag_name</th>\n",
       "      <th>gr_best_book_id</th>\n",
       "      <th>work_id</th>\n",
       "      <th>books_count</th>\n",
       "      <th>isbn</th>\n",
       "      <th>isbn13</th>\n",
       "      <th>authors</th>\n",
       "      <th>original_publication_year</th>\n",
       "      <th>original_title</th>\n",
       "      <th>title</th>\n",
       "      <th>...</th>\n",
       "      <th>work_ratings_count</th>\n",
       "      <th>work_text_reviews_count</th>\n",
       "      <th>ratings_1</th>\n",
       "      <th>ratings_2</th>\n",
       "      <th>ratings_3</th>\n",
       "      <th>ratings_4</th>\n",
       "      <th>ratings_5</th>\n",
       "      <th>image_url</th>\n",
       "      <th>small_image_url</th>\n",
       "      <th>overview</th>\n",
       "    </tr>\n",
       "    <tr>\n",
       "      <th>gr_book_id</th>\n",
       "      <th></th>\n",
       "      <th></th>\n",
       "      <th></th>\n",
       "      <th></th>\n",
       "      <th></th>\n",
       "      <th></th>\n",
       "      <th></th>\n",
       "      <th></th>\n",
       "      <th></th>\n",
       "      <th></th>\n",
       "      <th></th>\n",
       "      <th></th>\n",
       "      <th></th>\n",
       "      <th></th>\n",
       "      <th></th>\n",
       "      <th></th>\n",
       "      <th></th>\n",
       "      <th></th>\n",
       "      <th></th>\n",
       "      <th></th>\n",
       "      <th></th>\n",
       "    </tr>\n",
       "  </thead>\n",
       "  <tbody>\n",
       "    <tr>\n",
       "      <th>1</th>\n",
       "      <td>[2005, 5-star, 5-stars, adventure, audio, brit...</td>\n",
       "      <td>1</td>\n",
       "      <td>41335427</td>\n",
       "      <td>275</td>\n",
       "      <td>439785960</td>\n",
       "      <td>9.780440e+12</td>\n",
       "      <td>J.K. Rowling, Mary GrandPré</td>\n",
       "      <td>2005.0</td>\n",
       "      <td>Harry Potter and the Half-Blood Prince</td>\n",
       "      <td>Harry Potter and the Half-Blood Prince (Harry ...</td>\n",
       "      <td>...</td>\n",
       "      <td>1785676</td>\n",
       "      <td>27520</td>\n",
       "      <td>7308</td>\n",
       "      <td>21516</td>\n",
       "      <td>136333</td>\n",
       "      <td>459028</td>\n",
       "      <td>1161491</td>\n",
       "      <td>https://images.gr-assets.com/books/1361039191m...</td>\n",
       "      <td>https://images.gr-assets.com/books/1361039191s...</td>\n",
       "      <td>When Harry Potter and the Half-Blood Prince op...</td>\n",
       "    </tr>\n",
       "    <tr>\n",
       "      <th>2</th>\n",
       "      <td>[2003, 5-star, action, audio, boarding-school,...</td>\n",
       "      <td>2</td>\n",
       "      <td>2809203</td>\n",
       "      <td>307</td>\n",
       "      <td>439358078</td>\n",
       "      <td>9.780439e+12</td>\n",
       "      <td>J.K. Rowling, Mary GrandPré</td>\n",
       "      <td>2003.0</td>\n",
       "      <td>Harry Potter and the Order of the Phoenix</td>\n",
       "      <td>Harry Potter and the Order of the Phoenix (Har...</td>\n",
       "      <td>...</td>\n",
       "      <td>1840548</td>\n",
       "      <td>28685</td>\n",
       "      <td>9528</td>\n",
       "      <td>31577</td>\n",
       "      <td>180210</td>\n",
       "      <td>494427</td>\n",
       "      <td>1124806</td>\n",
       "      <td>https://images.gr-assets.com/books/1387141547m...</td>\n",
       "      <td>https://images.gr-assets.com/books/1387141547s...</td>\n",
       "      <td>Harry Potter and the Order of the Phoenix is t...</td>\n",
       "    </tr>\n",
       "    <tr>\n",
       "      <th>3</th>\n",
       "      <td>[5-stars, adventure, audio, british, childhood...</td>\n",
       "      <td>3</td>\n",
       "      <td>4640799</td>\n",
       "      <td>491</td>\n",
       "      <td>439554934</td>\n",
       "      <td>9.780440e+12</td>\n",
       "      <td>J.K. Rowling, Mary GrandPré</td>\n",
       "      <td>1997.0</td>\n",
       "      <td>Harry Potter and the Philosopher's Stone</td>\n",
       "      <td>Harry Potter and the Sorcerer's Stone (Harry P...</td>\n",
       "      <td>...</td>\n",
       "      <td>4800065</td>\n",
       "      <td>75867</td>\n",
       "      <td>75504</td>\n",
       "      <td>101676</td>\n",
       "      <td>455024</td>\n",
       "      <td>1156318</td>\n",
       "      <td>3011543</td>\n",
       "      <td>https://images.gr-assets.com/books/1474154022m...</td>\n",
       "      <td>https://images.gr-assets.com/books/1474154022s...</td>\n",
       "      <td>Harry Potter's life is miserable. His parents ...</td>\n",
       "    </tr>\n",
       "    <tr>\n",
       "      <th>5</th>\n",
       "      <td>[5-star, 5-stars, adventure, audio, british, c...</td>\n",
       "      <td>5</td>\n",
       "      <td>2402163</td>\n",
       "      <td>376</td>\n",
       "      <td>043965548X</td>\n",
       "      <td>9.780440e+12</td>\n",
       "      <td>J.K. Rowling, Mary GrandPré, Rufus Beck</td>\n",
       "      <td>1999.0</td>\n",
       "      <td>Harry Potter and the Prisoner of Azkaban</td>\n",
       "      <td>Harry Potter and the Prisoner of Azkaban (Harr...</td>\n",
       "      <td>...</td>\n",
       "      <td>1969375</td>\n",
       "      <td>36099</td>\n",
       "      <td>6716</td>\n",
       "      <td>20413</td>\n",
       "      <td>166129</td>\n",
       "      <td>509447</td>\n",
       "      <td>1266670</td>\n",
       "      <td>https://images.gr-assets.com/books/1499277281m...</td>\n",
       "      <td>https://images.gr-assets.com/books/1499277281s...</td>\n",
       "      <td>Harry Potter's third year at Hogwarts is full ...</td>\n",
       "    </tr>\n",
       "    <tr>\n",
       "      <th>6</th>\n",
       "      <td>[5-star, 5-stars, adventure, audio, british, c...</td>\n",
       "      <td>6</td>\n",
       "      <td>3046572</td>\n",
       "      <td>332</td>\n",
       "      <td>439139600</td>\n",
       "      <td>9.780439e+12</td>\n",
       "      <td>J.K. Rowling, Mary GrandPré</td>\n",
       "      <td>2000.0</td>\n",
       "      <td>Harry Potter and the Goblet of Fire</td>\n",
       "      <td>Harry Potter and the Goblet of Fire (Harry Pot...</td>\n",
       "      <td>...</td>\n",
       "      <td>1868642</td>\n",
       "      <td>31084</td>\n",
       "      <td>6676</td>\n",
       "      <td>20210</td>\n",
       "      <td>151785</td>\n",
       "      <td>494926</td>\n",
       "      <td>1195045</td>\n",
       "      <td>https://images.gr-assets.com/books/1361482611m...</td>\n",
       "      <td>https://images.gr-assets.com/books/1361482611s...</td>\n",
       "      <td>Harry Potter is midway through his training as...</td>\n",
       "    </tr>\n",
       "  </tbody>\n",
       "</table>\n",
       "<p>5 rows × 23 columns</p>\n",
       "</div>"
      ],
      "text/plain": [
       "                                                     tag_name  \\\n",
       "gr_book_id                                                      \n",
       "1           [2005, 5-star, 5-stars, adventure, audio, brit...   \n",
       "2           [2003, 5-star, action, audio, boarding-school,...   \n",
       "3           [5-stars, adventure, audio, british, childhood...   \n",
       "5           [5-star, 5-stars, adventure, audio, british, c...   \n",
       "6           [5-star, 5-stars, adventure, audio, british, c...   \n",
       "\n",
       "            gr_best_book_id   work_id  books_count        isbn        isbn13  \\\n",
       "gr_book_id                                                                     \n",
       "1                         1  41335427          275   439785960  9.780440e+12   \n",
       "2                         2   2809203          307   439358078  9.780439e+12   \n",
       "3                         3   4640799          491   439554934  9.780440e+12   \n",
       "5                         5   2402163          376  043965548X  9.780440e+12   \n",
       "6                         6   3046572          332   439139600  9.780439e+12   \n",
       "\n",
       "                                            authors  \\\n",
       "gr_book_id                                            \n",
       "1                       J.K. Rowling, Mary GrandPré   \n",
       "2                       J.K. Rowling, Mary GrandPré   \n",
       "3                       J.K. Rowling, Mary GrandPré   \n",
       "5           J.K. Rowling, Mary GrandPré, Rufus Beck   \n",
       "6                       J.K. Rowling, Mary GrandPré   \n",
       "\n",
       "            original_publication_year  \\\n",
       "gr_book_id                              \n",
       "1                              2005.0   \n",
       "2                              2003.0   \n",
       "3                              1997.0   \n",
       "5                              1999.0   \n",
       "6                              2000.0   \n",
       "\n",
       "                                       original_title  \\\n",
       "gr_book_id                                              \n",
       "1              Harry Potter and the Half-Blood Prince   \n",
       "2           Harry Potter and the Order of the Phoenix   \n",
       "3            Harry Potter and the Philosopher's Stone   \n",
       "5            Harry Potter and the Prisoner of Azkaban   \n",
       "6                 Harry Potter and the Goblet of Fire   \n",
       "\n",
       "                                                        title  ...  \\\n",
       "gr_book_id                                                     ...   \n",
       "1           Harry Potter and the Half-Blood Prince (Harry ...  ...   \n",
       "2           Harry Potter and the Order of the Phoenix (Har...  ...   \n",
       "3           Harry Potter and the Sorcerer's Stone (Harry P...  ...   \n",
       "5           Harry Potter and the Prisoner of Azkaban (Harr...  ...   \n",
       "6           Harry Potter and the Goblet of Fire (Harry Pot...  ...   \n",
       "\n",
       "           work_ratings_count  work_text_reviews_count  ratings_1  ratings_2  \\\n",
       "gr_book_id                                                                     \n",
       "1                     1785676                    27520       7308      21516   \n",
       "2                     1840548                    28685       9528      31577   \n",
       "3                     4800065                    75867      75504     101676   \n",
       "5                     1969375                    36099       6716      20413   \n",
       "6                     1868642                    31084       6676      20210   \n",
       "\n",
       "            ratings_3  ratings_4  ratings_5  \\\n",
       "gr_book_id                                    \n",
       "1              136333     459028    1161491   \n",
       "2              180210     494427    1124806   \n",
       "3              455024    1156318    3011543   \n",
       "5              166129     509447    1266670   \n",
       "6              151785     494926    1195045   \n",
       "\n",
       "                                                    image_url  \\\n",
       "gr_book_id                                                      \n",
       "1           https://images.gr-assets.com/books/1361039191m...   \n",
       "2           https://images.gr-assets.com/books/1387141547m...   \n",
       "3           https://images.gr-assets.com/books/1474154022m...   \n",
       "5           https://images.gr-assets.com/books/1499277281m...   \n",
       "6           https://images.gr-assets.com/books/1361482611m...   \n",
       "\n",
       "                                              small_image_url  \\\n",
       "gr_book_id                                                      \n",
       "1           https://images.gr-assets.com/books/1361039191s...   \n",
       "2           https://images.gr-assets.com/books/1387141547s...   \n",
       "3           https://images.gr-assets.com/books/1474154022s...   \n",
       "5           https://images.gr-assets.com/books/1499277281s...   \n",
       "6           https://images.gr-assets.com/books/1361482611s...   \n",
       "\n",
       "                                                     overview  \n",
       "gr_book_id                                                     \n",
       "1           When Harry Potter and the Half-Blood Prince op...  \n",
       "2           Harry Potter and the Order of the Phoenix is t...  \n",
       "3           Harry Potter's life is miserable. His parents ...  \n",
       "5           Harry Potter's third year at Hogwarts is full ...  \n",
       "6           Harry Potter is midway through his training as...  \n",
       "\n",
       "[5 rows x 23 columns]"
      ]
     },
     "execution_count": 13,
     "metadata": {},
     "output_type": "execute_result"
    }
   ],
   "source": [
    "df_book_tags=df_book_tags.groupby(\"gr_book_id\")['tag_name'].apply(list).to_frame()\n",
    "df_book_tag_text=df_book_tags.join(df_goodreads.set_index(\"gr_book_id\"))\n",
    "df_book_tag_text.head()"
   ]
  },
  {
   "cell_type": "markdown",
   "metadata": {},
   "source": [
    "text_tags<font color=\"#00586D\"> <i class=\"fa fa-pencil-square-o\" aria-hidden=\"true\" style=\"color:#00586D\"></i></font> Renombrar la columna `tag_name` de `df_book_tags` a `text_tags`. Rellenar los valores perdidos con un String vacío (\"\")."
   ]
  },
  {
   "cell_type": "code",
   "execution_count": 14,
   "metadata": {},
   "outputs": [
    {
     "data": {
      "text/html": [
       "<div>\n",
       "<style scoped>\n",
       "    .dataframe tbody tr th:only-of-type {\n",
       "        vertical-align: middle;\n",
       "    }\n",
       "\n",
       "    .dataframe tbody tr th {\n",
       "        vertical-align: top;\n",
       "    }\n",
       "\n",
       "    .dataframe thead th {\n",
       "        text-align: right;\n",
       "    }\n",
       "</style>\n",
       "<table border=\"1\" class=\"dataframe\">\n",
       "  <thead>\n",
       "    <tr style=\"text-align: right;\">\n",
       "      <th></th>\n",
       "      <th>text_tags</th>\n",
       "      <th>gr_best_book_id</th>\n",
       "      <th>work_id</th>\n",
       "      <th>books_count</th>\n",
       "      <th>isbn</th>\n",
       "      <th>isbn13</th>\n",
       "      <th>authors</th>\n",
       "      <th>original_publication_year</th>\n",
       "      <th>original_title</th>\n",
       "      <th>title</th>\n",
       "      <th>...</th>\n",
       "      <th>work_ratings_count</th>\n",
       "      <th>work_text_reviews_count</th>\n",
       "      <th>ratings_1</th>\n",
       "      <th>ratings_2</th>\n",
       "      <th>ratings_3</th>\n",
       "      <th>ratings_4</th>\n",
       "      <th>ratings_5</th>\n",
       "      <th>image_url</th>\n",
       "      <th>small_image_url</th>\n",
       "      <th>overview</th>\n",
       "    </tr>\n",
       "    <tr>\n",
       "      <th>gr_book_id</th>\n",
       "      <th></th>\n",
       "      <th></th>\n",
       "      <th></th>\n",
       "      <th></th>\n",
       "      <th></th>\n",
       "      <th></th>\n",
       "      <th></th>\n",
       "      <th></th>\n",
       "      <th></th>\n",
       "      <th></th>\n",
       "      <th></th>\n",
       "      <th></th>\n",
       "      <th></th>\n",
       "      <th></th>\n",
       "      <th></th>\n",
       "      <th></th>\n",
       "      <th></th>\n",
       "      <th></th>\n",
       "      <th></th>\n",
       "      <th></th>\n",
       "      <th></th>\n",
       "    </tr>\n",
       "  </thead>\n",
       "  <tbody>\n",
       "    <tr>\n",
       "      <th>1</th>\n",
       "      <td>[2005, 5-star, 5-stars, adventure, audio, brit...</td>\n",
       "      <td>1</td>\n",
       "      <td>41335427</td>\n",
       "      <td>275</td>\n",
       "      <td>439785960</td>\n",
       "      <td>9.780440e+12</td>\n",
       "      <td>J.K. Rowling, Mary GrandPré</td>\n",
       "      <td>2005.0</td>\n",
       "      <td>Harry Potter and the Half-Blood Prince</td>\n",
       "      <td>Harry Potter and the Half-Blood Prince (Harry ...</td>\n",
       "      <td>...</td>\n",
       "      <td>1785676</td>\n",
       "      <td>27520</td>\n",
       "      <td>7308</td>\n",
       "      <td>21516</td>\n",
       "      <td>136333</td>\n",
       "      <td>459028</td>\n",
       "      <td>1161491</td>\n",
       "      <td>https://images.gr-assets.com/books/1361039191m...</td>\n",
       "      <td>https://images.gr-assets.com/books/1361039191s...</td>\n",
       "      <td>When Harry Potter and the Half-Blood Prince op...</td>\n",
       "    </tr>\n",
       "    <tr>\n",
       "      <th>2</th>\n",
       "      <td>[2003, 5-star, action, audio, boarding-school,...</td>\n",
       "      <td>2</td>\n",
       "      <td>2809203</td>\n",
       "      <td>307</td>\n",
       "      <td>439358078</td>\n",
       "      <td>9.780439e+12</td>\n",
       "      <td>J.K. Rowling, Mary GrandPré</td>\n",
       "      <td>2003.0</td>\n",
       "      <td>Harry Potter and the Order of the Phoenix</td>\n",
       "      <td>Harry Potter and the Order of the Phoenix (Har...</td>\n",
       "      <td>...</td>\n",
       "      <td>1840548</td>\n",
       "      <td>28685</td>\n",
       "      <td>9528</td>\n",
       "      <td>31577</td>\n",
       "      <td>180210</td>\n",
       "      <td>494427</td>\n",
       "      <td>1124806</td>\n",
       "      <td>https://images.gr-assets.com/books/1387141547m...</td>\n",
       "      <td>https://images.gr-assets.com/books/1387141547s...</td>\n",
       "      <td>Harry Potter and the Order of the Phoenix is t...</td>\n",
       "    </tr>\n",
       "    <tr>\n",
       "      <th>3</th>\n",
       "      <td>[5-stars, adventure, audio, british, childhood...</td>\n",
       "      <td>3</td>\n",
       "      <td>4640799</td>\n",
       "      <td>491</td>\n",
       "      <td>439554934</td>\n",
       "      <td>9.780440e+12</td>\n",
       "      <td>J.K. Rowling, Mary GrandPré</td>\n",
       "      <td>1997.0</td>\n",
       "      <td>Harry Potter and the Philosopher's Stone</td>\n",
       "      <td>Harry Potter and the Sorcerer's Stone (Harry P...</td>\n",
       "      <td>...</td>\n",
       "      <td>4800065</td>\n",
       "      <td>75867</td>\n",
       "      <td>75504</td>\n",
       "      <td>101676</td>\n",
       "      <td>455024</td>\n",
       "      <td>1156318</td>\n",
       "      <td>3011543</td>\n",
       "      <td>https://images.gr-assets.com/books/1474154022m...</td>\n",
       "      <td>https://images.gr-assets.com/books/1474154022s...</td>\n",
       "      <td>Harry Potter's life is miserable. His parents ...</td>\n",
       "    </tr>\n",
       "    <tr>\n",
       "      <th>5</th>\n",
       "      <td>[5-star, 5-stars, adventure, audio, british, c...</td>\n",
       "      <td>5</td>\n",
       "      <td>2402163</td>\n",
       "      <td>376</td>\n",
       "      <td>043965548X</td>\n",
       "      <td>9.780440e+12</td>\n",
       "      <td>J.K. Rowling, Mary GrandPré, Rufus Beck</td>\n",
       "      <td>1999.0</td>\n",
       "      <td>Harry Potter and the Prisoner of Azkaban</td>\n",
       "      <td>Harry Potter and the Prisoner of Azkaban (Harr...</td>\n",
       "      <td>...</td>\n",
       "      <td>1969375</td>\n",
       "      <td>36099</td>\n",
       "      <td>6716</td>\n",
       "      <td>20413</td>\n",
       "      <td>166129</td>\n",
       "      <td>509447</td>\n",
       "      <td>1266670</td>\n",
       "      <td>https://images.gr-assets.com/books/1499277281m...</td>\n",
       "      <td>https://images.gr-assets.com/books/1499277281s...</td>\n",
       "      <td>Harry Potter's third year at Hogwarts is full ...</td>\n",
       "    </tr>\n",
       "    <tr>\n",
       "      <th>6</th>\n",
       "      <td>[5-star, 5-stars, adventure, audio, british, c...</td>\n",
       "      <td>6</td>\n",
       "      <td>3046572</td>\n",
       "      <td>332</td>\n",
       "      <td>439139600</td>\n",
       "      <td>9.780439e+12</td>\n",
       "      <td>J.K. Rowling, Mary GrandPré</td>\n",
       "      <td>2000.0</td>\n",
       "      <td>Harry Potter and the Goblet of Fire</td>\n",
       "      <td>Harry Potter and the Goblet of Fire (Harry Pot...</td>\n",
       "      <td>...</td>\n",
       "      <td>1868642</td>\n",
       "      <td>31084</td>\n",
       "      <td>6676</td>\n",
       "      <td>20210</td>\n",
       "      <td>151785</td>\n",
       "      <td>494926</td>\n",
       "      <td>1195045</td>\n",
       "      <td>https://images.gr-assets.com/books/1361482611m...</td>\n",
       "      <td>https://images.gr-assets.com/books/1361482611s...</td>\n",
       "      <td>Harry Potter is midway through his training as...</td>\n",
       "    </tr>\n",
       "  </tbody>\n",
       "</table>\n",
       "<p>5 rows × 23 columns</p>\n",
       "</div>"
      ],
      "text/plain": [
       "                                                    text_tags  \\\n",
       "gr_book_id                                                      \n",
       "1           [2005, 5-star, 5-stars, adventure, audio, brit...   \n",
       "2           [2003, 5-star, action, audio, boarding-school,...   \n",
       "3           [5-stars, adventure, audio, british, childhood...   \n",
       "5           [5-star, 5-stars, adventure, audio, british, c...   \n",
       "6           [5-star, 5-stars, adventure, audio, british, c...   \n",
       "\n",
       "            gr_best_book_id   work_id  books_count        isbn        isbn13  \\\n",
       "gr_book_id                                                                     \n",
       "1                         1  41335427          275   439785960  9.780440e+12   \n",
       "2                         2   2809203          307   439358078  9.780439e+12   \n",
       "3                         3   4640799          491   439554934  9.780440e+12   \n",
       "5                         5   2402163          376  043965548X  9.780440e+12   \n",
       "6                         6   3046572          332   439139600  9.780439e+12   \n",
       "\n",
       "                                            authors  \\\n",
       "gr_book_id                                            \n",
       "1                       J.K. Rowling, Mary GrandPré   \n",
       "2                       J.K. Rowling, Mary GrandPré   \n",
       "3                       J.K. Rowling, Mary GrandPré   \n",
       "5           J.K. Rowling, Mary GrandPré, Rufus Beck   \n",
       "6                       J.K. Rowling, Mary GrandPré   \n",
       "\n",
       "            original_publication_year  \\\n",
       "gr_book_id                              \n",
       "1                              2005.0   \n",
       "2                              2003.0   \n",
       "3                              1997.0   \n",
       "5                              1999.0   \n",
       "6                              2000.0   \n",
       "\n",
       "                                       original_title  \\\n",
       "gr_book_id                                              \n",
       "1              Harry Potter and the Half-Blood Prince   \n",
       "2           Harry Potter and the Order of the Phoenix   \n",
       "3            Harry Potter and the Philosopher's Stone   \n",
       "5            Harry Potter and the Prisoner of Azkaban   \n",
       "6                 Harry Potter and the Goblet of Fire   \n",
       "\n",
       "                                                        title  ...  \\\n",
       "gr_book_id                                                     ...   \n",
       "1           Harry Potter and the Half-Blood Prince (Harry ...  ...   \n",
       "2           Harry Potter and the Order of the Phoenix (Har...  ...   \n",
       "3           Harry Potter and the Sorcerer's Stone (Harry P...  ...   \n",
       "5           Harry Potter and the Prisoner of Azkaban (Harr...  ...   \n",
       "6           Harry Potter and the Goblet of Fire (Harry Pot...  ...   \n",
       "\n",
       "           work_ratings_count  work_text_reviews_count  ratings_1  ratings_2  \\\n",
       "gr_book_id                                                                     \n",
       "1                     1785676                    27520       7308      21516   \n",
       "2                     1840548                    28685       9528      31577   \n",
       "3                     4800065                    75867      75504     101676   \n",
       "5                     1969375                    36099       6716      20413   \n",
       "6                     1868642                    31084       6676      20210   \n",
       "\n",
       "            ratings_3  ratings_4  ratings_5  \\\n",
       "gr_book_id                                    \n",
       "1              136333     459028    1161491   \n",
       "2              180210     494427    1124806   \n",
       "3              455024    1156318    3011543   \n",
       "5              166129     509447    1266670   \n",
       "6              151785     494926    1195045   \n",
       "\n",
       "                                                    image_url  \\\n",
       "gr_book_id                                                      \n",
       "1           https://images.gr-assets.com/books/1361039191m...   \n",
       "2           https://images.gr-assets.com/books/1387141547m...   \n",
       "3           https://images.gr-assets.com/books/1474154022m...   \n",
       "5           https://images.gr-assets.com/books/1499277281m...   \n",
       "6           https://images.gr-assets.com/books/1361482611m...   \n",
       "\n",
       "                                              small_image_url  \\\n",
       "gr_book_id                                                      \n",
       "1           https://images.gr-assets.com/books/1361039191s...   \n",
       "2           https://images.gr-assets.com/books/1387141547s...   \n",
       "3           https://images.gr-assets.com/books/1474154022s...   \n",
       "5           https://images.gr-assets.com/books/1499277281s...   \n",
       "6           https://images.gr-assets.com/books/1361482611s...   \n",
       "\n",
       "                                                     overview  \n",
       "gr_book_id                                                     \n",
       "1           When Harry Potter and the Half-Blood Prince op...  \n",
       "2           Harry Potter and the Order of the Phoenix is t...  \n",
       "3           Harry Potter's life is miserable. His parents ...  \n",
       "5           Harry Potter's third year at Hogwarts is full ...  \n",
       "6           Harry Potter is midway through his training as...  \n",
       "\n",
       "[5 rows x 23 columns]"
      ]
     },
     "execution_count": 14,
     "metadata": {},
     "output_type": "execute_result"
    }
   ],
   "source": [
    "df_book_tag_text.rename(columns={\"tag_name\": \"text_tags\"}, inplace=True)\n",
    "df_book_tag_text[\"text_tags\"]=df_book_tag_text[\"text_tags\"].fillna('')\n",
    "df_book_tag_text.head()"
   ]
  },
  {
   "cell_type": "markdown",
   "metadata": {},
   "source": [
    "<font color=\"#00586D\"> <i class=\"fa fa-pencil-square-o\" aria-hidden=\"true\" style=\"color:#00586D\"></i></font> Incorporar la información del texto de las etiquetas, es decir, la columna `text_tags`, al `DataFrame` principal `df_goodreads` (utilizar _merge_)."
   ]
  },
  {
   "cell_type": "markdown",
   "metadata": {},
   "source": [
    "Hecho anteriormente"
   ]
  },
  {
   "cell_type": "code",
   "execution_count": 15,
   "metadata": {},
   "outputs": [],
   "source": [
    "df_goodreads=df_book_tag_text"
   ]
  },
  {
   "cell_type": "markdown",
   "metadata": {},
   "source": [
    "<div style=\"text-align: right\">\n",
    "<a href=\"#indice\"><font size=5><i class=\"fa fa-arrow-circle-up\" aria-hidden=\"true\" style=\"color:#004D7F\"></i></font></a>\n",
    "</div>\n",
    "\n",
    "---\n",
    "\n",
    "<a id=\"section13\"></a> \n",
    "###  <font color=\"#00586D\"> Preparación de datos </font>\n",
    "<br>\n",
    "\n",
    "Una vez incorporada la información relativa a resúmenes y etiquetas, esta se fundirá, constituyendo el contenido de cada libro. \n",
    "\n",
    "\n",
    "<font color=\"#00586D\"> <i class=\"fa fa-pencil-square-o\" aria-hidden=\"true\" style=\"color:#113D68\"></i></font> \n",
    "Fundir las columnas `overview` y `text_tags` de `df_goodreads` en otra columna llamada`text`. Eliminar las columnas en las que `text` tenga longitud 0."
   ]
  },
  {
   "cell_type": "code",
   "execution_count": 16,
   "metadata": {},
   "outputs": [
    {
     "data": {
      "text/plain": [
       "(10000, 24)"
      ]
     },
     "execution_count": 16,
     "metadata": {},
     "output_type": "execute_result"
    }
   ],
   "source": [
    "#Convertir en string la lista\n",
    "df_goodreads[\"text_tags\"]=df_goodreads[\"text_tags\"].apply(lambda x: ' '.join(list(x)))\n",
    "#concatenar\n",
    "df_goodreads[\"text\"]=df_goodreads[\"overview\"]+df_goodreads[\"text_tags\"]\n",
    "#quitar vacíos\n",
    "df_goodreads=df_goodreads[df_goodreads[\"text\"].apply(lambda x: True if len(x)>0 else False)]\n",
    "df_goodreads.shape"
   ]
  },
  {
   "cell_type": "markdown",
   "metadata": {},
   "source": [
    "####  <font color=\"#00586D\"> Selección de cinco libros para pruebas </font>\n",
    "\n",
    "\n",
    "<font color=\"#00586D\"> <i class=\"fa fa-pencil-square-o\" aria-hidden=\"true\" style=\"color:#00586D\"></i></font> Elegir cinco libros, y almacenarlos en el `DataFrame` `df_books_test` (copiadlos)."
   ]
  },
  {
   "cell_type": "code",
   "execution_count": 17,
   "metadata": {},
   "outputs": [
    {
     "data": {
      "text/html": [
       "<div>\n",
       "<style scoped>\n",
       "    .dataframe tbody tr th:only-of-type {\n",
       "        vertical-align: middle;\n",
       "    }\n",
       "\n",
       "    .dataframe tbody tr th {\n",
       "        vertical-align: top;\n",
       "    }\n",
       "\n",
       "    .dataframe thead th {\n",
       "        text-align: right;\n",
       "    }\n",
       "</style>\n",
       "<table border=\"1\" class=\"dataframe\">\n",
       "  <thead>\n",
       "    <tr style=\"text-align: right;\">\n",
       "      <th></th>\n",
       "      <th>text_tags</th>\n",
       "      <th>gr_best_book_id</th>\n",
       "      <th>work_id</th>\n",
       "      <th>books_count</th>\n",
       "      <th>isbn</th>\n",
       "      <th>isbn13</th>\n",
       "      <th>authors</th>\n",
       "      <th>original_publication_year</th>\n",
       "      <th>original_title</th>\n",
       "      <th>title</th>\n",
       "      <th>...</th>\n",
       "      <th>work_text_reviews_count</th>\n",
       "      <th>ratings_1</th>\n",
       "      <th>ratings_2</th>\n",
       "      <th>ratings_3</th>\n",
       "      <th>ratings_4</th>\n",
       "      <th>ratings_5</th>\n",
       "      <th>image_url</th>\n",
       "      <th>small_image_url</th>\n",
       "      <th>overview</th>\n",
       "      <th>text</th>\n",
       "    </tr>\n",
       "    <tr>\n",
       "      <th>gr_book_id</th>\n",
       "      <th></th>\n",
       "      <th></th>\n",
       "      <th></th>\n",
       "      <th></th>\n",
       "      <th></th>\n",
       "      <th></th>\n",
       "      <th></th>\n",
       "      <th></th>\n",
       "      <th></th>\n",
       "      <th></th>\n",
       "      <th></th>\n",
       "      <th></th>\n",
       "      <th></th>\n",
       "      <th></th>\n",
       "      <th></th>\n",
       "      <th></th>\n",
       "      <th></th>\n",
       "      <th></th>\n",
       "      <th></th>\n",
       "      <th></th>\n",
       "      <th></th>\n",
       "    </tr>\n",
       "  </thead>\n",
       "  <tbody>\n",
       "    <tr>\n",
       "      <th>3</th>\n",
       "      <td>5-stars adventure audio british childhood chil...</td>\n",
       "      <td>3</td>\n",
       "      <td>4640799</td>\n",
       "      <td>491</td>\n",
       "      <td>439554934</td>\n",
       "      <td>9.780440e+12</td>\n",
       "      <td>J.K. Rowling, Mary GrandPré</td>\n",
       "      <td>1997.0</td>\n",
       "      <td>Harry Potter and the Philosopher's Stone</td>\n",
       "      <td>Harry Potter and the Sorcerer's Stone (Harry P...</td>\n",
       "      <td>...</td>\n",
       "      <td>75867</td>\n",
       "      <td>75504</td>\n",
       "      <td>101676</td>\n",
       "      <td>455024</td>\n",
       "      <td>1156318</td>\n",
       "      <td>3011543</td>\n",
       "      <td>https://images.gr-assets.com/books/1474154022m...</td>\n",
       "      <td>https://images.gr-assets.com/books/1474154022s...</td>\n",
       "      <td>Harry Potter's life is miserable. His parents ...</td>\n",
       "      <td>Harry Potter's life is miserable. His parents ...</td>\n",
       "    </tr>\n",
       "    <tr>\n",
       "      <th>6</th>\n",
       "      <td>5-star 5-stars adventure audio british childre...</td>\n",
       "      <td>6</td>\n",
       "      <td>3046572</td>\n",
       "      <td>332</td>\n",
       "      <td>439139600</td>\n",
       "      <td>9.780439e+12</td>\n",
       "      <td>J.K. Rowling, Mary GrandPré</td>\n",
       "      <td>2000.0</td>\n",
       "      <td>Harry Potter and the Goblet of Fire</td>\n",
       "      <td>Harry Potter and the Goblet of Fire (Harry Pot...</td>\n",
       "      <td>...</td>\n",
       "      <td>31084</td>\n",
       "      <td>6676</td>\n",
       "      <td>20210</td>\n",
       "      <td>151785</td>\n",
       "      <td>494926</td>\n",
       "      <td>1195045</td>\n",
       "      <td>https://images.gr-assets.com/books/1361482611m...</td>\n",
       "      <td>https://images.gr-assets.com/books/1361482611s...</td>\n",
       "      <td>Harry Potter is midway through his training as...</td>\n",
       "      <td>Harry Potter is midway through his training as...</td>\n",
       "    </tr>\n",
       "    <tr>\n",
       "      <th>11</th>\n",
       "      <td>1001 1970s 20th-century 5-stars abandoned adul...</td>\n",
       "      <td>386162</td>\n",
       "      <td>3078186</td>\n",
       "      <td>257</td>\n",
       "      <td>345391802</td>\n",
       "      <td>9.780345e+12</td>\n",
       "      <td>Douglas Adams</td>\n",
       "      <td>1979.0</td>\n",
       "      <td>The Hitchhiker's Guide to the Galaxy</td>\n",
       "      <td>The Hitchhiker's Guide to the Galaxy (Hitchhik...</td>\n",
       "      <td>...</td>\n",
       "      <td>20345</td>\n",
       "      <td>21764</td>\n",
       "      <td>41962</td>\n",
       "      <td>145173</td>\n",
       "      <td>299579</td>\n",
       "      <td>498001</td>\n",
       "      <td>https://images.gr-assets.com/books/1327656754m...</td>\n",
       "      <td>https://images.gr-assets.com/books/1327656754s...</td>\n",
       "      <td></td>\n",
       "      <td>1001 1970s 20th-century 5-stars abandoned adul...</td>\n",
       "    </tr>\n",
       "    <tr>\n",
       "      <th>21</th>\n",
       "      <td>2000s 21st-century abandoned adult american an...</td>\n",
       "      <td>21</td>\n",
       "      <td>2305997</td>\n",
       "      <td>155</td>\n",
       "      <td>076790818X</td>\n",
       "      <td>9.780768e+12</td>\n",
       "      <td>Bill Bryson</td>\n",
       "      <td>2003.0</td>\n",
       "      <td>A Short History of Nearly Everything</td>\n",
       "      <td>A Short History of Nearly Everything</td>\n",
       "      <td>...</td>\n",
       "      <td>9065</td>\n",
       "      <td>3514</td>\n",
       "      <td>7196</td>\n",
       "      <td>29992</td>\n",
       "      <td>71534</td>\n",
       "      <td>94131</td>\n",
       "      <td>https://s.gr-assets.com/assets/nophoto/book/11...</td>\n",
       "      <td>https://s.gr-assets.com/assets/nophoto/book/50...</td>\n",
       "      <td>In Bryson's biggest book, he confronts his gre...</td>\n",
       "      <td>In Bryson's biggest book, he confronts his gre...</td>\n",
       "    </tr>\n",
       "    <tr>\n",
       "      <th>26</th>\n",
       "      <td>1980s 20th-century abandoned adult adult-non-f...</td>\n",
       "      <td>26</td>\n",
       "      <td>1888943</td>\n",
       "      <td>47</td>\n",
       "      <td>60920084</td>\n",
       "      <td>9.780061e+12</td>\n",
       "      <td>Bill Bryson</td>\n",
       "      <td>1989.0</td>\n",
       "      <td>The Lost Continent: Travels in Small-Town America</td>\n",
       "      <td>The Lost Continent: Travels in Small Town America</td>\n",
       "      <td>...</td>\n",
       "      <td>2119</td>\n",
       "      <td>1100</td>\n",
       "      <td>2653</td>\n",
       "      <td>10395</td>\n",
       "      <td>16124</td>\n",
       "      <td>11930</td>\n",
       "      <td>https://images.gr-assets.com/books/1404042682m...</td>\n",
       "      <td>https://images.gr-assets.com/books/1404042682s...</td>\n",
       "      <td>'I come from Des Moines. Somebody had to'And, ...</td>\n",
       "      <td>'I come from Des Moines. Somebody had to'And, ...</td>\n",
       "    </tr>\n",
       "  </tbody>\n",
       "</table>\n",
       "<p>5 rows × 24 columns</p>\n",
       "</div>"
      ],
      "text/plain": [
       "                                                    text_tags  \\\n",
       "gr_book_id                                                      \n",
       "3           5-stars adventure audio british childhood chil...   \n",
       "6           5-star 5-stars adventure audio british childre...   \n",
       "11          1001 1970s 20th-century 5-stars abandoned adul...   \n",
       "21          2000s 21st-century abandoned adult american an...   \n",
       "26          1980s 20th-century abandoned adult adult-non-f...   \n",
       "\n",
       "            gr_best_book_id  work_id  books_count        isbn        isbn13  \\\n",
       "gr_book_id                                                                    \n",
       "3                         3  4640799          491   439554934  9.780440e+12   \n",
       "6                         6  3046572          332   439139600  9.780439e+12   \n",
       "11                   386162  3078186          257   345391802  9.780345e+12   \n",
       "21                       21  2305997          155  076790818X  9.780768e+12   \n",
       "26                       26  1888943           47    60920084  9.780061e+12   \n",
       "\n",
       "                                authors  original_publication_year  \\\n",
       "gr_book_id                                                           \n",
       "3           J.K. Rowling, Mary GrandPré                     1997.0   \n",
       "6           J.K. Rowling, Mary GrandPré                     2000.0   \n",
       "11                        Douglas Adams                     1979.0   \n",
       "21                          Bill Bryson                     2003.0   \n",
       "26                          Bill Bryson                     1989.0   \n",
       "\n",
       "                                               original_title  \\\n",
       "gr_book_id                                                      \n",
       "3                    Harry Potter and the Philosopher's Stone   \n",
       "6                         Harry Potter and the Goblet of Fire   \n",
       "11                       The Hitchhiker's Guide to the Galaxy   \n",
       "21                       A Short History of Nearly Everything   \n",
       "26          The Lost Continent: Travels in Small-Town America   \n",
       "\n",
       "                                                        title  ...  \\\n",
       "gr_book_id                                                     ...   \n",
       "3           Harry Potter and the Sorcerer's Stone (Harry P...  ...   \n",
       "6           Harry Potter and the Goblet of Fire (Harry Pot...  ...   \n",
       "11          The Hitchhiker's Guide to the Galaxy (Hitchhik...  ...   \n",
       "21                       A Short History of Nearly Everything  ...   \n",
       "26          The Lost Continent: Travels in Small Town America  ...   \n",
       "\n",
       "           work_text_reviews_count  ratings_1  ratings_2  ratings_3  \\\n",
       "gr_book_id                                                            \n",
       "3                            75867      75504     101676     455024   \n",
       "6                            31084       6676      20210     151785   \n",
       "11                           20345      21764      41962     145173   \n",
       "21                            9065       3514       7196      29992   \n",
       "26                            2119       1100       2653      10395   \n",
       "\n",
       "            ratings_4  ratings_5  \\\n",
       "gr_book_id                         \n",
       "3             1156318    3011543   \n",
       "6              494926    1195045   \n",
       "11             299579     498001   \n",
       "21              71534      94131   \n",
       "26              16124      11930   \n",
       "\n",
       "                                                    image_url  \\\n",
       "gr_book_id                                                      \n",
       "3           https://images.gr-assets.com/books/1474154022m...   \n",
       "6           https://images.gr-assets.com/books/1361482611m...   \n",
       "11          https://images.gr-assets.com/books/1327656754m...   \n",
       "21          https://s.gr-assets.com/assets/nophoto/book/11...   \n",
       "26          https://images.gr-assets.com/books/1404042682m...   \n",
       "\n",
       "                                              small_image_url  \\\n",
       "gr_book_id                                                      \n",
       "3           https://images.gr-assets.com/books/1474154022s...   \n",
       "6           https://images.gr-assets.com/books/1361482611s...   \n",
       "11          https://images.gr-assets.com/books/1327656754s...   \n",
       "21          https://s.gr-assets.com/assets/nophoto/book/50...   \n",
       "26          https://images.gr-assets.com/books/1404042682s...   \n",
       "\n",
       "                                                     overview  \\\n",
       "gr_book_id                                                      \n",
       "3           Harry Potter's life is miserable. His parents ...   \n",
       "6           Harry Potter is midway through his training as...   \n",
       "11                                                              \n",
       "21          In Bryson's biggest book, he confronts his gre...   \n",
       "26          'I come from Des Moines. Somebody had to'And, ...   \n",
       "\n",
       "                                                         text  \n",
       "gr_book_id                                                     \n",
       "3           Harry Potter's life is miserable. His parents ...  \n",
       "6           Harry Potter is midway through his training as...  \n",
       "11          1001 1970s 20th-century 5-stars abandoned adul...  \n",
       "21          In Bryson's biggest book, he confronts his gre...  \n",
       "26          'I come from Des Moines. Somebody had to'And, ...  \n",
       "\n",
       "[5 rows x 24 columns]"
      ]
     },
     "execution_count": 17,
     "metadata": {},
     "output_type": "execute_result"
    }
   ],
   "source": [
    "test_pos = np.array([2,4,7,9,12]) # Sugerencia. Podéis cambiarlos. \n",
    "\n",
    "df_books_test=df_goodreads.iloc[np.array([2,4,7,9,12])]\n",
    "df_books_test"
   ]
  },
  {
   "cell_type": "markdown",
   "metadata": {},
   "source": [
    "<div style=\"text-align: right\">\n",
    "<a href=\"#indice\"><font size=5><i class=\"fa fa-arrow-circle-up\" aria-hidden=\"true\" style=\"color:#00586D\"></i></font></a>\n",
    "</div>\n",
    "\n",
    "---\n",
    "\n",
    "<a id=\"section2\"></a> \n",
    "## <font color=\"#00586D\"> 2. Limpieza del texto </font>\n",
    "<br>\n",
    "\n",
    "En este proyecto, el contenido (texto) asociado a cada libro se representa mediante un modelo de bolsa de palabras. Como se ha explicado a lo largo del módulo, cuando se trabaja con este tipo de representación es recomendable limpiar el texto y eliminar información irrelevante. \n",
    "\n",
    "En este caso se procederá de manera similar a como se ha hecho en las prácticas anteriores, es decir, se eliminarán palabras de menos de tres letras, se eliminarán _stop words_ y se utilizará lematización. Además se eliminarán nombres de entidades, es decir, nombres propios. Estos pueden hacer que el sistema discrimine en base en términos muy específicos, pero irrelevantes, como por ejemplo nombres de ciudades. \n",
    "\n",
    "<div class=\"alert alert-block alert-info\">\n",
    "    \n",
    "<i class=\"fa fa-info-circle\" aria-hidden=\"true\"></i> Hemos optado por eliminar entidades, en parte, para que veáis como se hace. Se puede trabajar de otro modo, no eliminando la entidades, y luego filtrando por _IDF_ para que solamente permanezcan las importantes. Por ejemplo el transformador eliminaría palabras como \"Albacete\" si aparece en uno o dos libros, y dejaría \"Nueva York\" si es suficientemente importante porque aparece en varios.\n",
    "</div>\n",
    "\n",
    "A continuación se describe cada uno de los pasos.  En primer lugar, se utilizará un objeto `nltk.tokenize.RegexpTokenizer` para separar las frases en _tokens_ compuestos de al menos tres caracteres alfabéticos. "
   ]
  },
  {
   "cell_type": "code",
   "execution_count": 18,
   "metadata": {},
   "outputs": [
    {
     "name": "stderr",
     "output_type": "stream",
     "text": [
      "[nltk_data] Downloading package wordnet to\n",
      "[nltk_data]     /Users/alonsofeliperuiz/nltk_data...\n",
      "[nltk_data]   Package wordnet is already up-to-date!\n",
      "[nltk_data] Downloading package averaged_perceptron_tagger to\n",
      "[nltk_data]     /Users/alonsofeliperuiz/nltk_data...\n",
      "[nltk_data]   Package averaged_perceptron_tagger is already up-to-\n",
      "[nltk_data]       date!\n",
      "[nltk_data] Downloading package maxent_ne_chunker to\n",
      "[nltk_data]     /Users/alonsofeliperuiz/nltk_data...\n",
      "[nltk_data]   Package maxent_ne_chunker is already up-to-date!\n",
      "[nltk_data] Downloading package words to\n",
      "[nltk_data]     /Users/alonsofeliperuiz/nltk_data...\n",
      "[nltk_data]   Package words is already up-to-date!\n"
     ]
    }
   ],
   "source": [
    "import nltk\n",
    "nltk.download('wordnet')\n",
    "nltk.download('averaged_perceptron_tagger')\n",
    "nltk.download('maxent_ne_chunker')\n",
    "nltk.download('words')\n",
    "\n",
    "from nltk.tokenize import RegexpTokenizer\n",
    "\n",
    "tokenizer = RegexpTokenizer(r'[a-zA-Z][a-zA-Z][a-zA-Z]+') "
   ]
  },
  {
   "cell_type": "markdown",
   "metadata": {},
   "source": [
    "Posteriormente, es necesario almacenar las _stop words_ en una lista, denominada `stopwords_en`."
   ]
  },
  {
   "cell_type": "code",
   "execution_count": 19,
   "metadata": {},
   "outputs": [
    {
     "name": "stdout",
     "output_type": "stream",
     "text": [
      "['i', 'me', 'my', 'myself', 'we', 'our', 'ours', 'ourselves', 'you', \"you're\"]\n"
     ]
    },
    {
     "name": "stderr",
     "output_type": "stream",
     "text": [
      "[nltk_data] Downloading package stopwords to\n",
      "[nltk_data]     /Users/alonsofeliperuiz/nltk_data...\n",
      "[nltk_data]   Package stopwords is already up-to-date!\n"
     ]
    }
   ],
   "source": [
    "nltk.download('stopwords')\n",
    "from nltk.corpus import stopwords\n",
    "\n",
    "stopwords_en = stopwords.words('english')\n",
    "print(stopwords_en[:10])"
   ]
  },
  {
   "cell_type": "markdown",
   "metadata": {},
   "source": [
    "Por último, se sustituirá cada palabra por su lema (también se ha visto en las prácticas anteriores) mediante el objeto `nltk.stem.wordnet.WordNetLemmatizer`."
   ]
  },
  {
   "cell_type": "code",
   "execution_count": 20,
   "metadata": {},
   "outputs": [],
   "source": [
    "from nltk.stem.wordnet import WordNetLemmatizer\n",
    "\n",
    "lemmatizer = WordNetLemmatizer()"
   ]
  },
  {
   "cell_type": "markdown",
   "metadata": {},
   "source": [
    "El _reconocimiento de entidades nombradas_ consiste en categorizar, dentro de un texto, las palabras o n-gramas que representan entidades que pueden ser reconocidas, tales como personas, localizaciones, etc. Aunque esta tarea implica en otros contextos devolver información con respecto a estas entidades (a qué corresponden), en el ámbito de este proyecto simplemente se eliminarán las entidades.\n",
    "\n",
    "El reconocimiento de entidades requiere que se lleve a cabo un etiquetado POS (_Part Of Speech tagging_) que básicamente asigna a cada token la función sintáctica dentro del documento. La siguiente función elimina las entidades de un texto pasado como argumento."
   ]
  },
  {
   "cell_type": "code",
   "execution_count": 21,
   "metadata": {},
   "outputs": [
    {
     "name": "stderr",
     "output_type": "stream",
     "text": [
      "[nltk_data] Downloading package punkt to\n",
      "[nltk_data]     /Users/alonsofeliperuiz/nltk_data...\n",
      "[nltk_data]   Package punkt is already up-to-date!\n"
     ]
    },
    {
     "name": "stdout",
     "output_type": "stream",
     "text": [
      "When Harry Potter and the Half-Blood Prince opens, the war against Voldemort has begun. The Wizarding world has split down the middle, and as the casualties mount, the effects even spill over onto the\n",
      "\n",
      " When and the Half-Blood Prince opens , the war against has begun . The Wizarding world has split down the middle , and as the casualties mount , the effects even spill over onto the . is away from Hog\n"
     ]
    }
   ],
   "source": [
    "from nltk import pos_tag\n",
    "from nltk.tree import Tree\n",
    "nltk.download('punkt')\n",
    "def remove_entity(text):\n",
    "    tokenized_text = nltk.word_tokenize(text)\n",
    "    tagged =  nltk.pos_tag(tokenized_text)\n",
    "    chunked = nltk.ne_chunk(tagged, binary=True)\n",
    "    new_text = []\n",
    "    entities = []\n",
    "    for i in chunked:\n",
    "        if not type(i) == Tree:\n",
    "            new_text.append(i[0])\n",
    "        else:\n",
    "            entities.append(i)\n",
    "    return \" \".join(new_text)\n",
    "\n",
    "text = df_goodreads.iloc[0]['text']\n",
    "print(text[:200])\n",
    "t = remove_entity(text)\n",
    "print(\"\\n\",t[:200])"
   ]
  },
  {
   "cell_type": "markdown",
   "metadata": {},
   "source": [
    "<font color=\"#00586D\"> <i class=\"fa fa-pencil-square-o\" aria-hidden=\"true\" style=\"color:#00586D\"></i></font> Implementar una función, denominada `clean` que tome como entrada un texto, y devuelva una versión \"limpia\" del mismo, es decir, de la que se hayan eliminado _stop words_ y entidades, y sustituido cada palabra por un lema. "
   ]
  },
  {
   "cell_type": "code",
   "execution_count": 22,
   "metadata": {},
   "outputs": [
    {
     "data": {
      "text/plain": [
       "['When',\n",
       " 'Half',\n",
       " 'Blood',\n",
       " 'Prince',\n",
       " 'open',\n",
       " 'war',\n",
       " 'begun',\n",
       " 'The',\n",
       " 'Wizarding',\n",
       " 'world',\n",
       " 'split',\n",
       " 'middle',\n",
       " 'casualty',\n",
       " 'mount',\n",
       " 'effect',\n",
       " 'even',\n",
       " 'spill',\n",
       " 'onto',\n",
       " 'away',\n",
       " 'Hogwarts',\n",
       " 'long',\n",
       " 'period',\n",
       " 'Order',\n",
       " 'suffered',\n",
       " 'grievous',\n",
       " 'loss',\n",
       " 'And',\n",
       " 'yet',\n",
       " 'war',\n",
       " 'life',\n",
       " 'go',\n",
       " 'Harry',\n",
       " 'passed',\n",
       " 'level',\n",
       " 'exam',\n",
       " 'start',\n",
       " 'specialist',\n",
       " 'course',\n",
       " 'Sixth',\n",
       " 'year',\n",
       " 'student',\n",
       " 'learn',\n",
       " 'losing',\n",
       " 'eyebrow',\n",
       " 'process',\n",
       " 'Teenagers',\n",
       " 'flirt',\n",
       " 'fight',\n",
       " 'fall',\n",
       " 'love',\n",
       " 'becomes',\n",
       " 'captain',\n",
       " 'team',\n",
       " 'pursues',\n",
       " 'dark',\n",
       " 'end',\n",
       " 'And',\n",
       " 'class',\n",
       " 'fascinating',\n",
       " 'confounding',\n",
       " 'ever',\n",
       " 'receives',\n",
       " 'extraordinary',\n",
       " 'help',\n",
       " 'Potions',\n",
       " 'mysterious',\n",
       " 'Half',\n",
       " 'Blood',\n",
       " 'Prince',\n",
       " 'Most',\n",
       " 'importantly',\n",
       " 'work',\n",
       " 'together',\n",
       " 'uncover',\n",
       " 'full',\n",
       " 'complex',\n",
       " 'story',\n",
       " 'boy',\n",
       " 'named',\n",
       " 'Riddle',\n",
       " 'boy',\n",
       " 'became',\n",
       " 'Like',\n",
       " 'son',\n",
       " 'one',\n",
       " 'Muggle',\n",
       " 'born',\n",
       " 'one',\n",
       " 'Wizarding',\n",
       " 'parent',\n",
       " 'raised',\n",
       " 'unloved',\n",
       " 'speaker',\n",
       " 'But',\n",
       " 'similarity',\n",
       " 'end',\n",
       " 'teenaged',\n",
       " 'became',\n",
       " 'deeply',\n",
       " 'interested',\n",
       " 'object',\n",
       " 'known',\n",
       " 'Horcruxes',\n",
       " 'object',\n",
       " 'wizard',\n",
       " 'hide',\n",
       " 'part',\n",
       " 'soul',\n",
       " 'dare',\n",
       " 'splinter',\n",
       " 'soul',\n",
       " 'murder',\n",
       " 'Harry',\n",
       " 'must',\n",
       " 'use',\n",
       " 'tool',\n",
       " 'disposal',\n",
       " 'draw',\n",
       " 'final',\n",
       " 'secret',\n",
       " 'one',\n",
       " 'teacher',\n",
       " 'sly',\n",
       " 'Potions',\n",
       " 'professor',\n",
       " 'Finally',\n",
       " 'Harry',\n",
       " 'hold',\n",
       " 'key',\n",
       " 'weakness',\n",
       " 'shocking',\n",
       " 'reversal',\n",
       " 'expose',\n",
       " 'vulnerability',\n",
       " 'cast',\n",
       " 'future',\n",
       " 'shadow',\n",
       " 'Source',\n",
       " 'http',\n",
       " 'harrypotter',\n",
       " 'scholastic',\n",
       " 'com',\n",
       " 'star',\n",
       " 'star',\n",
       " 'adventure',\n",
       " 'audio',\n",
       " 'british',\n",
       " 'childhood',\n",
       " 'child',\n",
       " 'child',\n",
       " 'child',\n",
       " 'lit',\n",
       " 'child',\n",
       " 'literature',\n",
       " 'childrens',\n",
       " 'classic',\n",
       " 'coming',\n",
       " 'age',\n",
       " 'contemporary',\n",
       " 'default',\n",
       " 'england',\n",
       " 'english',\n",
       " 'fantasy',\n",
       " 'fantasy',\n",
       " 'sci',\n",
       " 'faves',\n",
       " 'favs',\n",
       " 'fiction',\n",
       " 'harry',\n",
       " 'potter',\n",
       " 'harry',\n",
       " 'potter',\n",
       " 'series',\n",
       " 'rowling',\n",
       " 'rowling',\n",
       " 'juvenile',\n",
       " 'kid',\n",
       " 'kindle',\n",
       " 'made',\n",
       " 'cry',\n",
       " 'magic',\n",
       " 'magical',\n",
       " 'middle',\n",
       " 'grade',\n",
       " 'mystery',\n",
       " 'novel',\n",
       " 'novel',\n",
       " 'shelf',\n",
       " 'paranormal',\n",
       " 'potter',\n",
       " 'romance',\n",
       " 'sci',\n",
       " 'fantasy',\n",
       " 'science',\n",
       " 'fiction',\n",
       " 'fantasy',\n",
       " 'scifi',\n",
       " 'fantasy',\n",
       " 'series',\n",
       " 'supernatural']"
      ]
     },
     "execution_count": 22,
     "metadata": {},
     "output_type": "execute_result"
    }
   ],
   "source": [
    "def clean(text):\n",
    "    text = remove_entity(text)\n",
    "    tokens = [lemmatizer.lemmatize(token) for token in tokenizer.tokenize(text) if token not in stopwords_en]\n",
    "    return tokens    \n",
    "clean(text)[:200]"
   ]
  },
  {
   "cell_type": "markdown",
   "metadata": {},
   "source": [
    "<font color=\"#00586D\"> <i class=\"fa fa-pencil-square-o\" aria-hidden=\"true\" style=\"color:#00586D\"></i></font> Limpiar los datos almacenados en la columna `text` del `DataFrame` `goodreads` y almacenar el resultado en una serie denominada `data_books` (requiere varios minutos)."
   ]
  },
  {
   "cell_type": "code",
   "execution_count": 27,
   "metadata": {},
   "outputs": [],
   "source": [
    "data_books = df_goodreads[\"text\"].apply(lambda x: clean(x))\n",
    "#df_clean=data_books.to_frame()\n",
    "#df_clean.to_csv(\"data/df_clean.csv\")\n",
    "df_clean=pd.read_csv(\"data/df_clean.csv\", index_col=\"gr_book_id\")"
   ]
  },
  {
   "cell_type": "markdown",
   "metadata": {},
   "source": [
    "<div style=\"text-align: right\">\n",
    "<a href=\"#indice\"><font size=5><i class=\"fa fa-arrow-circle-up\" aria-hidden=\"true\" style=\"color:#00586D\"></i></font></a>\n",
    "</div>\n",
    "\n",
    "\n",
    "---\n",
    "\n",
    "<a id=\"section3\"></a> \n",
    "## <font color=\"#00586D\"> 3. Búsqueda por similaridad de la representación tf-idf </font>\n",
    "<br>\n",
    "\n",
    "La información _tf-idf_ es muy útil de cara a clasificar y comparar documentos. Cada texto se representa  mediante un vector de valores _tf-idf_, y la búsqueda de documentos se apoya en una medida de similaridad, la _similaridad coseno_, para esta representación.\n",
    "\n",
    "<font color=\"#00586D\"> <i class=\"fa fa-pencil-square-o\" aria-hidden=\"true\" style=\"color:#113D68\"></i></font> Crear un objeto `TfidfVectorizer` de `sklearn`, denominado `tfidf_vect`, que represente un máximo de 20000 términos. Obtener la matriz _tf-idf_ de los datos almacenados en `data_books` y almacenarla en una variable denominada `data_books_tfidf`. Extraer los términos considerados en `tfidf_vect`, y almacenarlos en la variable `terms`."
   ]
  },
  {
   "cell_type": "code",
   "execution_count": 28,
   "metadata": {},
   "outputs": [],
   "source": [
    "from sklearn.feature_extraction.text import TfidfVectorizer\n",
    "\n",
    "from sklearn.feature_extraction.text import TfidfVectorizer\n",
    "\n",
    "tfidf_vect = TfidfVectorizer(max_features=20000)\n",
    "data_books_tfidf = tfidf_vect.fit_transform(data_books.apply(lambda x: ' '.join(list(x))).values)\n",
    "terms = tfidf_vect.vocabulary_"
   ]
  },
  {
   "cell_type": "markdown",
   "metadata": {},
   "source": [
    "#### <font color=\"#00586D\"> Búsqueda del libro más similar </font>\n",
    "\n",
    "Se tomará un libro incluído en el conjunto de datos `df_books_test`. Por ejemplo, el primero."
   ]
  },
  {
   "cell_type": "code",
   "execution_count": 81,
   "metadata": {},
   "outputs": [
    {
     "name": "stdout",
     "output_type": "stream",
     "text": [
      "text_tags                    5-stars adventure audio british childhood chil...\n",
      "gr_best_book_id                                                              3\n",
      "work_id                                                                4640799\n",
      "books_count                                                                491\n",
      "isbn                                                                 439554934\n",
      "isbn13                                                             9.78044e+12\n",
      "authors                                            J.K. Rowling, Mary GrandPré\n",
      "original_publication_year                                                 1997\n",
      "original_title                        Harry Potter and the Philosopher's Stone\n",
      "title                        Harry Potter and the Sorcerer's Stone (Harry P...\n",
      "language_code                                                              eng\n",
      "average_rating                                                            4.44\n",
      "ratings_count                                                          4602479\n",
      "work_ratings_count                                                     4800065\n",
      "work_text_reviews_count                                                  75867\n",
      "ratings_1                                                                75504\n",
      "ratings_2                                                               101676\n",
      "ratings_3                                                               455024\n",
      "ratings_4                                                              1156318\n",
      "ratings_5                                                              3011543\n",
      "image_url                    https://images.gr-assets.com/books/1474154022m...\n",
      "small_image_url              https://images.gr-assets.com/books/1474154022s...\n",
      "overview                     Harry Potter's life is miserable. His parents ...\n",
      "text                         Harry Potter's life is miserable. His parents ...\n",
      "Name: 3, dtype: object\n"
     ]
    },
    {
     "data": {
      "text/plain": [
       "\"Harry Potter's life is miserable. His parents are dead and he's stuck with his heartless relatives, who force him to live in a tiny closet under the stairs. But his fortune changes when he receives a letter that tells him the truth about himself: he's a wizard. A mysterious visitor rescues him from his relatives and takes him to his new home, Hogwarts School of Witchcraft and Wizardry.After a lifetime of bottling up his magical powers, Harry finally feels like a normal kid. But even within the Wizarding community, he is special. He is the boy who lived: the only person to have ever survived a killing curse inflicted by the evil Lord Voldemort, who launched a brutal takeover of the Wizarding world, only to vanish after failing to kill Harry.Though Harry's first year at Hogwarts is the best of his life, not everything is perfect. There is a dangerous secret object hidden within the castle walls, and Harry believes it's his responsibility to prevent it from falling into evil hands. But doing so will bring him into contact with forces more terrifying than he ever could have imagined.Full of sympathetic characters, wildly imaginative situations, and countless exciting details, the first installment in the series assembles an unforgettable magical world and sets the stage for many high-stakes adventures to come.5-stars adventure audio british childhood children children-s children-s-lit children-s-literature childrens classic classics contemporary default england english fantasy fantasy-sci-fi faves favs fiction friendship harry-potter harry-potter-series j-k-rowling jk-rowling juvenile kids kindle magic middle-grade mystery novel novels on-my-shelf paranormal sci-fi-fantasy science-fiction-fantasy scifi-fantasy series supernatural teen to-buy urban-fantasy witches wizards ya ya-fantasy ya-fiction young-adult young-adult-fiction youth\""
      ]
     },
     "execution_count": 81,
     "metadata": {},
     "output_type": "execute_result"
    }
   ],
   "source": [
    "print(df_books_test.iloc[0])\n",
    "text_query = df_books_test.iloc[0].text\n",
    "text_query"
   ]
  },
  {
   "cell_type": "markdown",
   "metadata": {},
   "source": [
    "Para poder buscar otro libro por similaridad, es necesario transformar el texto de consulta a la representación _tf-idf_. Previamente, ha de ser preprocesado (limpiado con la función `clean`).\n",
    "\n",
    "<font color=\"#00586D\"> <i class=\"fa fa-pencil-square-o\" aria-hidden=\"true\" style=\"color:#00586D\"></i></font> Transformar el documento `text_query` a formato _tf-idf_ y almacenar el resultado en `text_query_tfidf`.\n",
    "\n",
    "<div class=\"alert alert-block alert-warning\">\n",
    "    \n",
    "<i class=\"fa fa-exclamation-circle\" aria-hidden=\"true\"></i>\n",
    "Esta sería la manera de proceder con libros nuevos. No obstante, en este caso concreto, ___como el libro ya estaba en el corpus y se ha obtenido su representación___, se podría obtener el vector directamente desde `data_books_tfidf`.\n",
    "\n",
    "</div>"
   ]
  },
  {
   "cell_type": "code",
   "execution_count": 30,
   "metadata": {},
   "outputs": [],
   "source": [
    "text_query=clean(text_query)\n",
    "text_query= ' '.join(text_query)\n",
    "text_query=[text_query]\n",
    "text_query_tfidf = tfidf_vect.transform(text_query)"
   ]
  },
  {
   "cell_type": "markdown",
   "metadata": {},
   "source": [
    "<font color=\"#00586D\"> <i class=\"fa fa-pencil-square-o\" aria-hidden=\"true\" style=\"color:#00586D\"></i></font> Mostrar los 10 términos más relevantes (con mayor valor _tf-idf_) para el documento `text_query`."
   ]
  },
  {
   "cell_type": "code",
   "execution_count": 31,
   "metadata": {},
   "outputs": [],
   "source": [
    "feature_array = np.array(tfidf_vect.get_feature_names())\n",
    "tfidf_sorting = np.argsort(text_query_tfidf.toarray()).flatten()[::-1]\n",
    "\n",
    "n = 10\n",
    "top_n = feature_array[tfidf_sorting][:n]"
   ]
  },
  {
   "cell_type": "markdown",
   "metadata": {},
   "source": [
    "<font color=\"#00586D\"> <i class=\"fa fa-pencil-square-o\" aria-hidden=\"true\" style=\"color:#00586D\"></i></font> Calcular las similaridades (similaridad coseno) del documento `text_query_tfidf` con el resto de documentos en la matriz `data_books_tfidf`, y almacenarlas en un vector denominado `similarities_tfidf`.\n",
    "\n",
    "<div class=\"alert alert-block alert-warning\">\n",
    "    \n",
    "<i class=\"fa fa-exclamation-circle\" aria-hidden=\"true\"></i>\n",
    "La función `cosine_similarity` toma como argumentos dos matrices y devuelve una matriz (aunque sea unidimensional). Para obtener un vector unidemensional, y operar posteriormente con más agilidad, `similarities_tfidf` ha de almacenar el elemento cero de la matriz devuelta por la función, o transformar esta matriz en un vector. \n",
    "</div>"
   ]
  },
  {
   "cell_type": "code",
   "execution_count": 32,
   "metadata": {},
   "outputs": [],
   "source": [
    "from sklearn.metrics.pairwise import  cosine_similarity\n",
    "\n",
    "similarities_tfidf = cosine_similarity(text_query_tfidf, data_books_tfidf)"
   ]
  },
  {
   "cell_type": "markdown",
   "metadata": {},
   "source": [
    "<font color=\"#00586D\"> <i class=\"fa fa-pencil-square-o\" aria-hidden=\"true\" style=\"color:#00586D\"></i></font> Obtener los índices de los 6 libros más similares a `text_query` (obviamente, el más similar será el propio libro).\n",
    "\n"
   ]
  },
  {
   "cell_type": "code",
   "execution_count": 33,
   "metadata": {},
   "outputs": [
    {
     "data": {
      "text/plain": [
       "gr_book_id\n",
       "3          Harry Potter and the Sorcerer's Stone (Harry P...\n",
       "1317181    Harry Potter and the Order of the Phoenix (Har...\n",
       "6          Harry Potter and the Goblet of Fire (Harry Pot...\n",
       "8          Harry Potter Boxed Set, Books 1-5 (Harry Potte...\n",
       "111450                            Quidditch Through the Ages\n",
       "5          Harry Potter and the Prisoner of Azkaban (Harr...\n",
       "Name: title, dtype: object"
      ]
     },
     "execution_count": 33,
     "metadata": {},
     "output_type": "execute_result"
    }
   ],
   "source": [
    "top_similarities = pd.DataFrame(np.transpose(similarities_tfidf))[0].nlargest(6).index.values.tolist()\n",
    "df_goodreads.iloc[top_similarities]['title']"
   ]
  },
  {
   "cell_type": "markdown",
   "metadata": {},
   "source": [
    "Se aprecia que, efectivamente, los libros son muy similares. De hecho, todos corresponden a la saga. Esto puede deverse al uso de palabras clave muy concretas como _\"Twilight\"_."
   ]
  },
  {
   "cell_type": "markdown",
   "metadata": {},
   "source": [
    "<font color=\"#004D7F\"> <i class=\"fa fa-pencil-square-o\" aria-hidden=\"true\" style=\"color:#113D68\"></i></font> Guardar la matriz `data_books_tfidf` en el archivo `./data/data_books_tfidf.p` (para uso posterior)."
   ]
  },
  {
   "cell_type": "code",
   "execution_count": 34,
   "metadata": {},
   "outputs": [],
   "source": [
    "np.save(\"./data/data_books_tfidf.p\", data_books_tfidf)"
   ]
  },
  {
   "cell_type": "markdown",
   "metadata": {},
   "source": [
    "<div style=\"text-align: right\">\n",
    "<a href=\"#indice\"><font size=5><i class=\"fa fa-arrow-circle-up\" aria-hidden=\"true\" style=\"color:#00586D\"></i></font></a>\n",
    "</div>\n",
    "\n",
    "\n",
    "---\n",
    "\n",
    "<a id=\"section4\"></a> \n",
    "## <font color=\"#00586D\"> 4. Recomendación basada en contenido </font>\n",
    "<br>\n",
    "\n",
    "Existen muchas posibilidades en la implementación de sistemas de recomendación basados en contenido. En general, todas requieren:\n",
    "\n",
    "* Determinar qué ítems prefiere el usuario\n",
    "* Encontrar ítems similares\n",
    "* Priorizar esos ítems\n",
    "\n",
    "\n",
    "Para ilustrar el funcionamiento de este tipo de sistemas, se tomarán los datos relativos a la actividad de un usuario escogido al azar, y se devolverá un conjunto de libros recomendados. \n",
    "\n",
    "\n",
    "El archivo `'./data/ratings.csv` contiene las valoraciones hechas por más de 53000 usuarios a los 10000 libros. En total, contiene cerca de un millón de entradas en formato (`user_id`, `book_id`, `rating`). El tamaño de la base de datos dificulta el trabajo con una matriz, aunque sea dispersa, ya que el proceso de elaboración (mediante `pivot` es muy lento). "
   ]
  },
  {
   "cell_type": "code",
   "execution_count": 35,
   "metadata": {},
   "outputs": [
    {
     "data": {
      "text/html": [
       "<div>\n",
       "<style scoped>\n",
       "    .dataframe tbody tr th:only-of-type {\n",
       "        vertical-align: middle;\n",
       "    }\n",
       "\n",
       "    .dataframe tbody tr th {\n",
       "        vertical-align: top;\n",
       "    }\n",
       "\n",
       "    .dataframe thead th {\n",
       "        text-align: right;\n",
       "    }\n",
       "</style>\n",
       "<table border=\"1\" class=\"dataframe\">\n",
       "  <thead>\n",
       "    <tr style=\"text-align: right;\">\n",
       "      <th></th>\n",
       "      <th>user_id</th>\n",
       "      <th>book_id</th>\n",
       "      <th>rating</th>\n",
       "    </tr>\n",
       "  </thead>\n",
       "  <tbody>\n",
       "    <tr>\n",
       "      <th>0</th>\n",
       "      <td>313</td>\n",
       "      <td>0</td>\n",
       "      <td>5</td>\n",
       "    </tr>\n",
       "    <tr>\n",
       "      <th>1</th>\n",
       "      <td>438</td>\n",
       "      <td>0</td>\n",
       "      <td>3</td>\n",
       "    </tr>\n",
       "    <tr>\n",
       "      <th>2</th>\n",
       "      <td>587</td>\n",
       "      <td>0</td>\n",
       "      <td>5</td>\n",
       "    </tr>\n",
       "    <tr>\n",
       "      <th>3</th>\n",
       "      <td>1168</td>\n",
       "      <td>0</td>\n",
       "      <td>4</td>\n",
       "    </tr>\n",
       "    <tr>\n",
       "      <th>4</th>\n",
       "      <td>1184</td>\n",
       "      <td>0</td>\n",
       "      <td>4</td>\n",
       "    </tr>\n",
       "  </tbody>\n",
       "</table>\n",
       "</div>"
      ],
      "text/plain": [
       "   user_id  book_id  rating\n",
       "0      313        0       5\n",
       "1      438        0       3\n",
       "2      587        0       5\n",
       "3     1168        0       4\n",
       "4     1184        0       4"
      ]
     },
     "metadata": {},
     "output_type": "display_data"
    },
    {
     "data": {
      "text/plain": [
       "(981756, 3)"
      ]
     },
     "execution_count": 35,
     "metadata": {},
     "output_type": "execute_result"
    }
   ],
   "source": [
    "df_ratings = pd.read_csv('./data/ratings.csv', sep=',')\n",
    "\n",
    "display(df_ratings.head())\n",
    "df_ratings.shape"
   ]
  },
  {
   "cell_type": "markdown",
   "metadata": {},
   "source": [
    "<div style=\"text-align: right\">\n",
    "<a href=\"#indice\"><font size=5><i class=\"fa fa-arrow-circle-up\" aria-hidden=\"true\" style=\"color:#004D7F\"></i></font></a>\n",
    "</div>\n",
    "\n",
    "\n",
    "---\n",
    "\n",
    "<a id=\"section41\"></a> \n",
    "### <font color=\"#00586D\"> Selección de libros preferidos por el usuario </font>\n",
    "<br>\n",
    "\n",
    "El primer paso de la recomendación consiste en determinar qué libros prefiere el usuario.  Una posibilidad consiste en seleccionar aquellos para los que éste ha otorgado una puntuación mayor que tres. \n",
    "\n",
    "<font color=\"#00586D\"> <i class=\"fa fa-pencil-square-o\" aria-hidden=\"true\" style=\"color:#00586D\"></i></font> Tomar un usuario al azar y devolver las entradas correspondientes a los libros que ha votado. Almacenarlas en el `DataFrame` `ratings_user`. Descartar de `ratings_user` todos los libros con puntuación menor que cuatro. "
   ]
  },
  {
   "cell_type": "code",
   "execution_count": 36,
   "metadata": {},
   "outputs": [
    {
     "data": {
      "text/html": [
       "<div>\n",
       "<style scoped>\n",
       "    .dataframe tbody tr th:only-of-type {\n",
       "        vertical-align: middle;\n",
       "    }\n",
       "\n",
       "    .dataframe tbody tr th {\n",
       "        vertical-align: top;\n",
       "    }\n",
       "\n",
       "    .dataframe thead th {\n",
       "        text-align: right;\n",
       "    }\n",
       "</style>\n",
       "<table border=\"1\" class=\"dataframe\">\n",
       "  <thead>\n",
       "    <tr style=\"text-align: right;\">\n",
       "      <th></th>\n",
       "      <th>user_id</th>\n",
       "      <th>book_id</th>\n",
       "      <th>rating</th>\n",
       "    </tr>\n",
       "  </thead>\n",
       "  <tbody>\n",
       "    <tr>\n",
       "      <th>53101</th>\n",
       "      <td>2732</td>\n",
       "      <td>531</td>\n",
       "      <td>5</td>\n",
       "    </tr>\n",
       "    <tr>\n",
       "      <th>209776</th>\n",
       "      <td>2732</td>\n",
       "      <td>2099</td>\n",
       "      <td>5</td>\n",
       "    </tr>\n",
       "    <tr>\n",
       "      <th>214080</th>\n",
       "      <td>2732</td>\n",
       "      <td>2142</td>\n",
       "      <td>5</td>\n",
       "    </tr>\n",
       "    <tr>\n",
       "      <th>242344</th>\n",
       "      <td>2732</td>\n",
       "      <td>2425</td>\n",
       "      <td>4</td>\n",
       "    </tr>\n",
       "    <tr>\n",
       "      <th>369792</th>\n",
       "      <td>2732</td>\n",
       "      <td>3702</td>\n",
       "      <td>4</td>\n",
       "    </tr>\n",
       "    <tr>\n",
       "      <th>401262</th>\n",
       "      <td>2732</td>\n",
       "      <td>4018</td>\n",
       "      <td>4</td>\n",
       "    </tr>\n",
       "    <tr>\n",
       "      <th>425738</th>\n",
       "      <td>2732</td>\n",
       "      <td>4264</td>\n",
       "      <td>5</td>\n",
       "    </tr>\n",
       "    <tr>\n",
       "      <th>476351</th>\n",
       "      <td>2732</td>\n",
       "      <td>4773</td>\n",
       "      <td>4</td>\n",
       "    </tr>\n",
       "    <tr>\n",
       "      <th>524632</th>\n",
       "      <td>2732</td>\n",
       "      <td>5262</td>\n",
       "      <td>5</td>\n",
       "    </tr>\n",
       "    <tr>\n",
       "      <th>543609</th>\n",
       "      <td>2732</td>\n",
       "      <td>5454</td>\n",
       "      <td>4</td>\n",
       "    </tr>\n",
       "    <tr>\n",
       "      <th>602404</th>\n",
       "      <td>2732</td>\n",
       "      <td>6048</td>\n",
       "      <td>5</td>\n",
       "    </tr>\n",
       "    <tr>\n",
       "      <th>627124</th>\n",
       "      <td>2732</td>\n",
       "      <td>6298</td>\n",
       "      <td>4</td>\n",
       "    </tr>\n",
       "    <tr>\n",
       "      <th>629500</th>\n",
       "      <td>2732</td>\n",
       "      <td>6322</td>\n",
       "      <td>5</td>\n",
       "    </tr>\n",
       "    <tr>\n",
       "      <th>755541</th>\n",
       "      <td>2732</td>\n",
       "      <td>7610</td>\n",
       "      <td>5</td>\n",
       "    </tr>\n",
       "  </tbody>\n",
       "</table>\n",
       "</div>"
      ],
      "text/plain": [
       "        user_id  book_id  rating\n",
       "53101      2732      531       5\n",
       "209776     2732     2099       5\n",
       "214080     2732     2142       5\n",
       "242344     2732     2425       4\n",
       "369792     2732     3702       4\n",
       "401262     2732     4018       4\n",
       "425738     2732     4264       5\n",
       "476351     2732     4773       4\n",
       "524632     2732     5262       5\n",
       "543609     2732     5454       4\n",
       "602404     2732     6048       5\n",
       "627124     2732     6298       4\n",
       "629500     2732     6322       5\n",
       "755541     2732     7610       5"
      ]
     },
     "execution_count": 36,
     "metadata": {},
     "output_type": "execute_result"
    }
   ],
   "source": [
    "np.random.seed(0)\n",
    "test_user = np.random.randint(max(df_ratings['user_id']))\n",
    "\n",
    "ratings_user=df_ratings[(df_ratings['user_id']==test_user) & (df_ratings[\"rating\"]>3)]\n",
    "\n",
    "ratings_user"
   ]
  },
  {
   "cell_type": "markdown",
   "metadata": {},
   "source": [
    "<div style=\"text-align: right\">\n",
    "<a href=\"#indice\"><font size=5><i class=\"fa fa-arrow-circle-up\" aria-hidden=\"true\" style=\"color:#00586D\"></i></font></a>\n",
    "</div>\n",
    "\n",
    "\n",
    "---\n",
    "\n",
    "<a id=\"section42\"></a> \n",
    "### <font color=\"#00586D\"> Búsqueda de libros similares </font>\n",
    "<br>\n",
    "\n",
    "Una vez se dispone de la lista de libros, es necesario encontrar libros similares. \n",
    "\n",
    "<font color=\"#00586D\"> <i class=\"fa fa-pencil-square-o\" aria-hidden=\"true\" style=\"color:#00586D\"></i> </font>Extraer la representación de los libros relativos al usuario y copiarla en una matriz denominada `user_books_tfidf`. "
   ]
  },
  {
   "cell_type": "code",
   "execution_count": 37,
   "metadata": {},
   "outputs": [
    {
     "data": {
      "text/plain": [
       "(14, 20000)"
      ]
     },
     "execution_count": 37,
     "metadata": {},
     "output_type": "execute_result"
    }
   ],
   "source": [
    "books_user_id = ratings_user[\"book_id\"].values.tolist()\n",
    "user_books_tfidf = tfidf_vect.transform(data_books.apply(lambda x: ' '.join(list(x))).values[books_user_id].tolist())\n",
    "user_books_tfidf.shape"
   ]
  },
  {
   "cell_type": "markdown",
   "metadata": {},
   "source": [
    "<font color=\"#00586D\"> <i class=\"fa fa-pencil-square-o\" aria-hidden=\"true\" style=\"color:#00586D\"></i> </font> Calcular la matriz de similaridades coseno entre `user_books_tfidf`, `data_books_tfidf`. Fijar las similaridades de los libros leídos con el usuario  (`books_user_id `) consigo mismos a -1 con el fin de descartarlos. "
   ]
  },
  {
   "cell_type": "code",
   "execution_count": 38,
   "metadata": {},
   "outputs": [
    {
     "data": {
      "text/plain": [
       "(10000, 14)"
      ]
     },
     "execution_count": 38,
     "metadata": {},
     "output_type": "execute_result"
    }
   ],
   "source": [
    "similarities_user = cosine_similarity(user_books_tfidf, data_books_tfidf)\n",
    "df_similarities=pd.DataFrame(np.transpose(np.where(similarities_user==1, -1, similarities_user)))\n",
    "df_similarities.shape"
   ]
  },
  {
   "cell_type": "markdown",
   "metadata": {},
   "source": [
    "<font color=\"#00586D\"> <i class=\"fa fa-pencil-square-o\" aria-hidden=\"true\" style=\"color:#00586D\"></i> </font> Obtener los 3 libros más similares _a cada uno_ de los leídos por el usuario y almacenarlos en la matriz `similar_books`.\n",
    "\n",
    "<div class=\"alert alert-block alert-info\">\n",
    "    \n",
    "<i class=\"fa fa-info-circle\" aria-hidden=\"true\"></i> La función `similarities_user.argsort(axis=1)` devuelve los índices ordenados (ascendentemente) para cada fila del array. Se trata de coger las 3 últimas columnas de `similarities_user`. \n",
    "</div>"
   ]
  },
  {
   "cell_type": "code",
   "execution_count": 39,
   "metadata": {},
   "outputs": [
    {
     "name": "stdout",
     "output_type": "stream",
     "text": [
      "[[\"Plum Lovin' (Stephanie Plum, #12.5)\", 'Visions of Sugar Plums (Stephanie Plum, #8.5)', 'To the Nines (Stephanie Plum, #9)'], [\"Girls' Night In\", 'The Guy Not Taken: Stories', 'No One Belongs Here More Than You'], ['Feet of Clay (Discworld, #19; City Watch, #3)', 'Maskerade (Discworld, #18; Witches #5)', 'The Light Fantastic (Discworld, #2; Rincewind #2)'], ['Rage of a Demon King (The Serpentwar Saga, #3)', 'Shards of a Broken Crown (The Serpentwar Saga, #4)', 'Shadow of a Dark Queen (The Serpentwar Saga, #1)'], ['Billy Budd, Sailor', 'Nine Stories', 'The Dead'], ['Mike Mulligan and His Steam Shovel', 'The Little Red Caboose (Little Golden Book)', 'Falling Up'], ['Runaway Ralph (Ralph S. Mouse, #2)', 'Ramona the Brave (Ramona, #3)', 'The Story of Doctor Dolittle (Doctor Dolittle, #1)'], [\"Auschwitz: A Doctor's Eyewitness Account\", 'Anne Frank Remembered: The Story of the Woman Who Helped to Hide the Frank Family', \"The Zookeeper's Wife\"], ['رحلتي من الشك إلى الإيمان', 'حوار مع صديقي الملحد', 'استمتع بحياتك'], [\"The Discoverers: A History of Man's Search to Know His World and Himself\", 'A Distant Mirror:  The Calamitous 14th Century', 'The Swerve: How the World Became Modern'], ['The Coffin Club (Vampire Kisses, #5)', 'Love Bites (Vampire Kisses, #7)', 'Dance with a Vampire (Vampire Kisses, #4)'], ['Scat', 'Flush', 'Sick Puppy'], ['Fireproof', 'The Power of a Praying Wife', 'For Women Only: What You Need to Know about the Inner Lives of Men'], ['The Nightmare (Joona Linna, #2)', 'The Ice Princess (Patrik Hedström, #1)', 'The Preacher (Patrik Hedström, #2)']] (42 libros similares.)\n"
     ]
    }
   ],
   "source": [
    "similar_books=[]\n",
    "for books in df_similarities.columns.tolist():\n",
    "    top_similarities = df_similarities[books].nlargest(3).index.values.tolist()\n",
    "    top_similarities=df_goodreads.iloc[top_similarities]['title'].values.tolist()\n",
    "    similar_books.append(top_similarities)\n",
    "print(similar_books, \"(\"+str(len(similar_books)*3)+\" libros similares.)\")"
   ]
  },
  {
   "cell_type": "markdown",
   "metadata": {},
   "source": [
    "<div style=\"text-align: right\">\n",
    "<a href=\"#indice\"><font size=5><i class=\"fa fa-arrow-circle-up\" aria-hidden=\"true\" style=\"color:#00586D\"></i></font></a>\n",
    "</div>\n",
    "\n",
    "\n",
    "---\n",
    "\n",
    "<a id=\"section43\"></a> \n",
    "### <font color=\"#00586D\"> Priorización de resultados y recomendación</font>\n",
    "\n",
    "Llegados a este punto, se han obtenido los libros más similares a los leídos y valorados positivamente por el usuario. Una posibilidad a la hora de priorizar los resultados consistiría en dar más peso a aquellos libros similares que han aparecido más veces en la matriz `similar_books`. \n",
    "\n",
    "También es posible utilizar la información del `DataFrame` `df_goodreads` para priorizar los libros. En concreto, la columna `average_rating` contiene la valoración media de cada libro en la plataforma, y puede ser utilizada para priorizar. \n",
    "\n",
    "<font color=\"#00586D\"> <i class=\"fa fa-pencil-square-o\" aria-hidden=\"true\" style=\"color:#00586D\"></i> </font> Obtener los 10 libros con mayor `average_rating` de entre los más similares a los valorados positivamente por el usuario (`similar_books`). Almacenar sus índices en un array denominado `rec_books_user_id`."
   ]
  },
  {
   "cell_type": "code",
   "execution_count": 40,
   "metadata": {},
   "outputs": [
    {
     "data": {
      "text/plain": [
       "[531,\n",
       " 532,\n",
       " 2298,\n",
       " 2099,\n",
       " 1199,\n",
       " 3677,\n",
       " 2142,\n",
       " 3123,\n",
       " 2136,\n",
       " 1147,\n",
       " 1134,\n",
       " 2422,\n",
       " 1256,\n",
       " 304,\n",
       " 1630,\n",
       " 4018,\n",
       " 5710,\n",
       " 1895,\n",
       " 1095,\n",
       " 3323,\n",
       " 4802,\n",
       " 4773,\n",
       " 479,\n",
       " 5819,\n",
       " 6308,\n",
       " 6523,\n",
       " 6177,\n",
       " 5454,\n",
       " 5294,\n",
       " 7812,\n",
       " 6048,\n",
       " 6935,\n",
       " 4589,\n",
       " 6298,\n",
       " 1069,\n",
       " 1068,\n",
       " 6322,\n",
       " 5643,\n",
       " 2577,\n",
       " 8441,\n",
       " 6966,\n",
       " 7563]"
      ]
     },
     "execution_count": 40,
     "metadata": {},
     "output_type": "execute_result"
    }
   ],
   "source": [
    "similar_books_ids=[]\n",
    "for books in df_similarities.columns.tolist():\n",
    "    top_similarities = df_similarities[books].nlargest(3).index.values.tolist()\n",
    "    for items in top_similarities:\n",
    "        similar_books_ids.append(items)\n",
    "similar_books_ids"
   ]
  },
  {
   "cell_type": "code",
   "execution_count": 41,
   "metadata": {},
   "outputs": [
    {
     "data": {
      "text/plain": [
       "[3412815, 30120, 833253, 34527, 5509, 315578, 894072, 2678349, 153542, 4009]"
      ]
     },
     "execution_count": 41,
     "metadata": {},
     "output_type": "execute_result"
    }
   ],
   "source": [
    "rec_books_user_id = df_goodreads.iloc[similar_books_ids]['average_rating'].nlargest(10).index.tolist()\n",
    "\n",
    "rec_books_user_id "
   ]
  },
  {
   "cell_type": "markdown",
   "metadata": {},
   "source": [
    "Por último, se imprimen los nombres de los libros preferidos por el usuario, cuyos índices están almacenados en `books_user_id`, y la recomendación, cuyos índices están almacenados en `rec_books_user_id`."
   ]
  },
  {
   "cell_type": "code",
   "execution_count": 42,
   "metadata": {},
   "outputs": [
    {
     "name": "stdout",
     "output_type": "stream",
     "text": [
      "Libros preferidos por el usuario: \n",
      "----------------------------------\n",
      "Janet Evanovich \n",
      "\t Plum Lovin' (Stephanie Plum, #12.5)\n",
      "Lauren Henderson, Chris Manby, Sarah Mlynowski, Jill A. Davis, Stella Duffy, Lisa Jewell, Marian Keyes, Sophie Kinsella, Adèle Lang, Carole Matthews, Anna Maxted, Megan McCafferty, Alisa Valdes, Isabel Wolff, Meg Cabot, Jessica Adams, Louise Bagshawe, Emily Barr, Jenny Colgan, Lynda Curnyn, Jennifer Weiner \n",
      "\t Girls' Night In\n",
      "Terry Pratchett \n",
      "\t Feet of Clay (Discworld, #19; City Watch, #3)\n",
      "Raymond E. Feist \n",
      "\t Rise of a Merchant Prince (The Serpentwar Saga, #2)\n",
      "Herman Melville \n",
      "\t Bartleby the Scrivener\n",
      "Virginia Lee Burton \n",
      "\t Mike Mulligan and His Steam Shovel\n",
      "Gloria Levine \n",
      "\t Ralph S. Mouse by Beverly Cleary: Teacher Guide (Novel Units)\n",
      "Miklós Nyiszli, Tibère Kremer, Bruno Bettelheim, Richard Seaver \n",
      "\t Auschwitz: A Doctor's Eyewitness Account\n",
      "Safiy al-Rahman al-Mubarakfuri \n",
      "\t الرحيق المختوم\n",
      "Daniel J. Boorstin \n",
      "\t The Discoverers: A History of Man's Search to Know His World and Himself\n",
      "Ellen Schreiber \n",
      "\t The Coffin Club (Vampire Kisses, #5)\n",
      "Carl Hiaasen \n",
      "\t Scat\n",
      "Eric Wilson \n",
      "\t Fireproof\n",
      "Lars Kepler, Ann Long \n",
      "\t The Hypnotist (Joona Linna, #1)\n",
      "\n",
      "\n",
      "Recomendación: \n",
      "----------------------------------\n",
      "Eric Wilson \n",
      "\t Fireproof\n",
      "Shel Silverstein \n",
      "\t Falling Up\n",
      "Stormie Omartian \n",
      "\t The Power of a Praying Wife\n",
      "Terry Pratchett \n",
      "\t Feet of Clay (Discworld, #19; City Watch, #3)\n",
      "Miep Gies, Alison Leslie Gold \n",
      "\t Anne Frank Remembered: The Story of the Woman Who Helped to Hide the Frank Family\n",
      "Miklós Nyiszli, Tibère Kremer, Bruno Bettelheim, Richard Seaver \n",
      "\t Auschwitz: A Doctor's Eyewitness Account\n",
      "Marian Potter \n",
      "\t The Little Red Caboose (Little Golden Book)\n",
      "محمد عبد الرحمن العريفي \n",
      "\t استمتع بحياتك\n",
      "Virginia Lee Burton \n",
      "\t Mike Mulligan and His Steam Shovel\n",
      "J.D. Salinger \n",
      "\t Nine Stories\n"
     ]
    }
   ],
   "source": [
    "print(\"Libros preferidos por el usuario: \")\n",
    "print(\"----------------------------------\")\n",
    "for book in df_goodreads.iloc[books_user_id][['title', 'authors']].itertuples():\n",
    "    print(book.authors, \"\\n\\t\",book.title)\n",
    "    \n",
    "print(\"\\n\\nRecomendación: \")\n",
    "print(\"----------------------------------\")\n",
    "for book in df_goodreads.loc[rec_books_user_id][['title', 'authors']].itertuples():\n",
    "    print(book.authors, \"\\n\\t\",book.title)   "
   ]
  },
  {
   "cell_type": "markdown",
   "metadata": {},
   "source": [
    "Algunos salen repetidos, porque al hacer la medida de los cosenos he eliminado el parecido de uno por si mismo, pero parece que algunos libros se parecían entre sí"
   ]
  },
  {
   "cell_type": "markdown",
   "metadata": {},
   "source": [
    "Puede observarse que, efectivamente, los títulos recomendados guardan mucha relación con los títulos valorados positivamente por el usuario. "
   ]
  },
  {
   "cell_type": "markdown",
   "metadata": {},
   "source": [
    "<div style=\"text-align: right\">\n",
    "<a href=\"#indice\"><font size=5><i class=\"fa fa-arrow-circle-up\" aria-hidden=\"true\" style=\"color:#00586D\"></i></font></a>\n",
    "</div>\n",
    "\n",
    "\n",
    "---\n",
    "\n",
    "<a id=\"section5\"></a> \n",
    "##  <font color=\"#00586D\"> 5. Sistema híbrido de recomendación  </font>\n",
    "<br>\n",
    "\n",
    "<br> En el apartado anterior se ha utilizado la valoración media de cada libro para priorizar los vecinos más cercanos. Existe otra posibilidad, que consite en utilizar las valoraciones de los libros obtenidas mediante filtrado colaborativo. Esto constituye un sistema híbrido, ya que se mezclan las dos aproximaciones. Por una parte, se seleccionan libros basados en contenido, y de ellos, se muestra el conjunto para el que se predice una mayor puntuación por parte del usuario.\n",
    "<br>\n",
    "\n",
    "No existe mucho material disponible en relación a este tipo de modelos. Tampoco una librería de referencia, aunque va cobrando popularidad [surprise](http://surpriselib.com/). En primer lugar, se utilizará esta librería para obtener los scores mediante filtrado colaborativo. En concreto, se utilizará el algoritmo SVD (visto en clase). \n",
    "\n",
    "<div class=\"alert alert-block alert-info\">\n",
    "    \n",
    "<i class=\"fa fa-info-circle\" aria-hidden=\"true\"></i> El autor principal de la librería describe en en una serie de artículos [enlace](http://nicolas-hug.com/blog/) como funciona la versión básica de este algoritmo. La lectura es muy recomendable. \n",
    "</div>"
   ]
  },
  {
   "cell_type": "code",
   "execution_count": 43,
   "metadata": {},
   "outputs": [],
   "source": [
    "#!pip install surprise"
   ]
  },
  {
   "cell_type": "markdown",
   "metadata": {},
   "source": [
    "En la siguiente celda, se cargan los votos  en la estructura `ratings_data` (usada por `surprise`) y se aprende un modelo SVD."
   ]
  },
  {
   "cell_type": "code",
   "execution_count": 44,
   "metadata": {},
   "outputs": [],
   "source": [
    "from surprise import SVD, Dataset, Reader\n",
    "from surprise.model_selection.split import train_test_split\n",
    "\n",
    "reader = Reader()\n",
    "ratings_data = Dataset.load_from_df(df_ratings, reader).build_full_trainset()\n",
    "svd = SVD(n_factors=10)\n",
    "svd.fit(ratings_data);"
   ]
  },
  {
   "cell_type": "markdown",
   "metadata": {},
   "source": [
    "<font color=\"#00586D\"> <i class=\"fa fa-pencil-square-o\" aria-hidden=\"true\" style=\"color:#00586D\"></i> </font> Obtener uno a uno, las valoraciones de los libros similares a los preferidos por el usuario (`similar_books`), y tomar los 10 con más valoración. "
   ]
  },
  {
   "cell_type": "code",
   "execution_count": 45,
   "metadata": {},
   "outputs": [
    {
     "name": "stdout",
     "output_type": "stream",
     "text": [
      "\n",
      "\n",
      "Recomendación: \n",
      "----------------------------------\n",
      "Terry Pratchett \n",
      "\t Maskerade (Discworld, #18; Witches #5)\n",
      "Lauren Henderson, Chris Manby, Sarah Mlynowski, Jill A. Davis, Stella Duffy, Lisa Jewell, Marian Keyes, Sophie Kinsella, Adèle Lang, Carole Matthews, Anna Maxted, Megan McCafferty, Alisa Valdes, Isabel Wolff, Meg Cabot, Jessica Adams, Louise Bagshawe, Emily Barr, Jenny Colgan, Lynda Curnyn, Jennifer Weiner \n",
      "\t Girls' Night In\n",
      "Janet Evanovich \n",
      "\t Plum Lovin' (Stephanie Plum, #12.5)\n",
      "مصطفى محمود \n",
      "\t رحلتي من الشك إلى الإيمان\n",
      "Janet Evanovich \n",
      "\t To the Nines (Stephanie Plum, #9)\n",
      "Terry Pratchett \n",
      "\t Feet of Clay (Discworld, #19; City Watch, #3)\n",
      "Stephen Greenblatt \n",
      "\t The Swerve: How the World Became Modern\n",
      "Virginia Lee Burton \n",
      "\t Mike Mulligan and His Steam Shovel\n",
      "Miklós Nyiszli, Tibère Kremer, Bruno Bettelheim, Richard Seaver \n",
      "\t Auschwitz: A Doctor's Eyewitness Account\n",
      "James Joyce \n",
      "\t The Dead\n"
     ]
    }
   ],
   "source": [
    "scores = []\n",
    "for book in similar_books_ids:\n",
    "    scores.append(svd.predict(uid=2732, iid=book).est)\n",
    "    \n",
    "d = {'book_id':similar_books_ids,'score':scores}\n",
    "df=pd.DataFrame(d).set_index(\"book_id\")\n",
    "df.index.to_list()\n",
    "rec_books_user_id =df[\"score\"].nlargest(10).index.to_list()\n",
    "\n",
    "print(\"\\n\\nRecomendación: \")\n",
    "print(\"----------------------------------\")\n",
    "for book in df_goodreads.iloc[rec_books_user_id][['title', 'authors']].itertuples():\n",
    "    print(book.authors, \"\\n\\t\",book.title)    "
   ]
  },
  {
   "cell_type": "markdown",
   "metadata": {},
   "source": [
    "<div style=\"text-align: right\">\n",
    "<a href=\"#indice\"><font size=5><i class=\"fa fa-arrow-circle-up\" aria-hidden=\"true\" style=\"color:#00586D\"></i></font></a>\n",
    "</div>\n",
    "\n",
    "\n",
    "---\n",
    "\n",
    "<a id=\"section6\"></a> \n",
    "## <font color=\"#00586D\"> 6. LDA y búsqueda por similaridad </font>\n",
    "<br>\n",
    "\n",
    "LDA permite modelar los grupos que dan lugar al corpus de documentos, de modo que cada documento se representa como una mixtura de las distribuciones de probabilidad de cada grupo, dada por un vector de pesos. Esta representación puede ser utilizada también para caracterizar el documento (en lugar de _tf-idf_) y permite cuantificar la similaridad con otros. Por tanto, también serviría para implementar un sistema de recomendación (basado en contenido o híbrido) similar al anterior.\n",
    "\n",
    "LDA trabaja con la matriz de frecuencias de  términos por documento (_term frecuency_). Por tanto, es necesario primero obtenerla. \n",
    "\n",
    "<font color=\"#00586D\"> <i class=\"fa fa-pencil-square-o\" aria-hidden=\"true\" style=\"color:#00586D\"></i></font> Construir un objeto `CountVectorizer` de `sklearn` y almacenarlo en la variable `cv_vect`.  Obtener la matriz `data_books_cv` a partir de los datos almacenados en `data_books`. Utilizar un tamaño máximo de vocabulario de 5000 (para que LDA no requiera demasiado tiempo y memoria). Almacenar el vocabulario generado en `cv_vect` en la variable `terms`. "
   ]
  },
  {
   "cell_type": "code",
   "execution_count": 49,
   "metadata": {},
   "outputs": [],
   "source": [
    "from sklearn.feature_extraction.text import CountVectorizer\n",
    "\n",
    "cv_vect = CountVectorizer(max_features=5000)\n",
    "data_books_cv = cv_vect.fit_transform(df_clean[\"text\"])\n",
    "terms = cv_vect.get_feature_names()"
   ]
  },
  {
   "cell_type": "markdown",
   "metadata": {},
   "source": [
    "Una vez construida la matriz de frecuencias, se ejecutará el algoritmo LDA, para representar los documentos mediante 20 grupos."
   ]
  },
  {
   "cell_type": "code",
   "execution_count": 50,
   "metadata": {},
   "outputs": [],
   "source": [
    "from sklearn.decomposition import LatentDirichletAllocation\n",
    "\n",
    "# Número de temas\n",
    "n_topics = 20\n",
    "\n",
    "lda = LatentDirichletAllocation(n_components=n_topics, max_iter=20, learning_method='online',\n",
    "                                learning_offset=50., random_state=0, n_jobs=-1)"
   ]
  },
  {
   "cell_type": "markdown",
   "metadata": {},
   "source": [
    "<font color=\"#00586D\"> <i class=\"fa fa-pencil-square-o\" aria-hidden=\"true\" style=\"color:#00586D\"></i></font> Construir el modelo LDA y almacenarlo en la variable `topic_term`. Guardar la representación de los documentos en la variable `data_books_lda`."
   ]
  },
  {
   "cell_type": "code",
   "execution_count": 51,
   "metadata": {},
   "outputs": [
    {
     "name": "stdout",
     "output_type": "stream",
     "text": [
      "Tiempo: 35.781s.\n",
      "Tamaño del modelo: (20, 5000)\n",
      "Tamaño del resultado de la transformación:  (10000, 20)\n"
     ]
    }
   ],
   "source": [
    "from time import time\n",
    "start = time()\n",
    "data_books_lda = lda.fit_transform(data_books_cv)\n",
    "topic_term = lda.components_\n",
    "\n",
    "print(\"Tiempo: {:0.3f}s.\".format(time() - start))\n",
    "print(\"Tamaño del modelo:\", topic_term.shape)\n",
    "print(\"Tamaño del resultado de la transformación: \", data_books_lda.shape)"
   ]
  },
  {
   "cell_type": "markdown",
   "metadata": {},
   "source": [
    "La siguiente función (de la práctica de LDA) imprime los términos y scores más importantes para cada grupo."
   ]
  },
  {
   "cell_type": "code",
   "execution_count": 52,
   "metadata": {},
   "outputs": [
    {
     "name": "stdout",
     "output_type": "stream",
     "text": [
      "Grupo:  0\n",
      "----------------------\n",
      "graphic:     \t0.1216\n",
      "comic:     \t0.1168\n",
      "novel:     \t0.1063\n",
      "manga:     \t0.0791\n",
      "christian:     \t0.0454\n",
      "religion:     \t0.0131\n",
      "religious:     \t0.0125\n",
      "fiction:     \t0.0123\n",
      "faith:     \t0.0116\n",
      "art:     \t0.0099\n",
      "----------------------\n",
      "\n"
     ]
    }
   ],
   "source": [
    "def topic_relevant_words(topic_id, model, terms, num_words):\n",
    "    print(\"Grupo: \", topic_id)\n",
    "    print(\"----------------------\")\n",
    "    # Extrae las posiciones de los mayores scores. \n",
    "    top_term_ids = model[topic_id,:].argsort()[:-num_words-1:-1]\n",
    "    # Extrae los términos de las posiciones correspondientes\n",
    "    top_terms = [terms[id_term] for id_term in top_term_ids]\n",
    "    # Extrae y calcula los scores\n",
    "    top_scores =  model[topic_id,top_term_ids] / np.sum(model[topic_id,:])\n",
    "    # Imprime los resultados\n",
    "    for term, score in zip(top_terms,top_scores):\n",
    "        print(\"{:s}:     \\t{:.4f}\".format(term,score))\n",
    "    print(\"----------------------\\n\")\n",
    "\n",
    "topic_relevant_words(0,topic_term, terms, 10)"
   ]
  },
  {
   "cell_type": "markdown",
   "metadata": {},
   "source": [
    "#### <font color=\"#00586D\"> Búsqueda del libro más similar </font>\n",
    "\n",
    "<font color=\"#00586D\"> <i class=\"fa fa-pencil-square-o\" aria-hidden=\"true\" style=\"color:#00586D\"></i></font>  Obtener la representación a partir del modelo `lda` del documento `text_query`. Almacenarla en la variable `text_query_lda`. "
   ]
  },
  {
   "cell_type": "code",
   "execution_count": 95,
   "metadata": {},
   "outputs": [
    {
     "data": {
      "text/plain": [
       "\"Harry Potter's life is miserable. His parents are dead and he's stuck with his heartless relatives, who force him to live in a tiny closet under the stairs. But his fortune changes when he receives a letter that tells him the truth about himself: he's a wizard. A mysterious visitor rescues him from his relatives and takes him to his new home, Hogwarts School of Witchcraft and Wizardry.After a lifetime of bottling up his magical powers, Harry finally feels like a normal kid. But even within the Wizarding community, he is special. He is the boy who lived: the only person to have ever survived a killing curse inflicted by the evil Lord Voldemort, who launched a brutal takeover of the Wizarding world, only to vanish after failing to kill Harry.Though Harry's first year at Hogwarts is the best of his life, not everything is perfect. There is a dangerous secret object hidden within the castle walls, and Harry believes it's his responsibility to prevent it from falling into evil hands. But doing so will bring him into contact with forces more terrifying than he ever could have imagined.Full of sympathetic characters, wildly imaginative situations, and countless exciting details, the first installment in the series assembles an unforgettable magical world and sets the stage for many high-stakes adventures to come.5-stars adventure audio british childhood children children-s children-s-lit children-s-literature childrens classic classics contemporary default england english fantasy fantasy-sci-fi faves favs fiction friendship harry-potter harry-potter-series j-k-rowling jk-rowling juvenile kids kindle magic middle-grade mystery novel novels on-my-shelf paranormal sci-fi-fantasy science-fiction-fantasy scifi-fantasy series supernatural teen to-buy urban-fantasy witches wizards ya ya-fantasy ya-fiction young-adult young-adult-fiction youth\""
      ]
     },
     "execution_count": 95,
     "metadata": {},
     "output_type": "execute_result"
    }
   ],
   "source": [
    "text_query = df_books_test.iloc[0].text\n",
    "text_query"
   ]
  },
  {
   "cell_type": "code",
   "execution_count": 96,
   "metadata": {},
   "outputs": [
    {
     "data": {
      "text/plain": [
       "<184x5000 sparse matrix of type '<class 'numpy.int64'>'\n",
       "\twith 173 stored elements in Compressed Sparse Row format>"
      ]
     },
     "execution_count": 96,
     "metadata": {},
     "output_type": "execute_result"
    }
   ],
   "source": [
    "text_query=clean(text_query)\n",
    "text_query_lda = cv_vect.transform(text_query)\n",
    "text_query_lda"
   ]
  },
  {
   "cell_type": "markdown",
   "metadata": {},
   "source": [
    "<font color=\"#00586D\"> <i class=\"fa fa-pencil-square-o\" aria-hidden=\"true\" style=\"color:#00586D\"></i></font> Mostrar las características de los tres grupos más relevantes en el texto `text_query`. "
   ]
  },
  {
   "cell_type": "code",
   "execution_count": 108,
   "metadata": {},
   "outputs": [
    {
     "name": "stdout",
     "output_type": "stream",
     "text": [
      "Grupo:  16\n",
      "----------------------\n",
      "memoir:     \t0.0629\n",
      "biography:     \t0.0609\n",
      "history:     \t0.0297\n",
      "non:     \t0.0259\n",
      "autobiography:     \t0.0219\n",
      "nonfiction:     \t0.0183\n",
      "bio:     \t0.0130\n",
      "story:     \t0.0105\n",
      "american:     \t0.0098\n",
      "world:     \t0.0093\n",
      "----------------------\n",
      "\n",
      "Grupo:  18\n",
      "----------------------\n",
      "fiction:     \t0.0405\n",
      "contemporary:     \t0.0205\n",
      "adult:     \t0.0185\n",
      "family:     \t0.0153\n",
      "lit:     \t0.0119\n",
      "life:     \t0.0109\n",
      "finish:     \t0.0088\n",
      "buy:     \t0.0088\n",
      "love:     \t0.0086\n",
      "woman:     \t0.0084\n",
      "----------------------\n",
      "\n",
      "Grupo:  12\n",
      "----------------------\n",
      "self:     \t0.0376\n",
      "art:     \t0.0244\n",
      "business:     \t0.0242\n",
      "development:     \t0.0222\n",
      "personal:     \t0.0218\n",
      "help:     \t0.0161\n",
      "life:     \t0.0160\n",
      "non:     \t0.0139\n",
      "psychology:     \t0.0138\n",
      "growth:     \t0.0129\n",
      "----------------------\n",
      "\n"
     ]
    }
   ],
   "source": [
    "for id_topic in lda.transform(text_query_lda)[0].argsort()[-3:]:\n",
    "    topic_relevant_words(id_topic,topic_term, terms, 10)"
   ]
  },
  {
   "cell_type": "markdown",
   "metadata": {},
   "source": [
    "<font color=\"#004D7F\"> <i class=\"fa fa-pencil-square-o\" aria-hidden=\"true\" style=\"color:#113D68\"></i></font> Calcular las similaridades (distancia_euclídea) del documento `text_query_lda` con el resto de documentos en la matriz `data_books_lda`, y almacenarlas en un vector denominado `similarities_lda`."
   ]
  },
  {
   "cell_type": "code",
   "execution_count": 112,
   "metadata": {},
   "outputs": [],
   "source": [
    "from sklearn.metrics.pairwise import euclidean_distances\n",
    "\n",
    "similarities_lda = euclidean_distances(lda.transform(text_query_lda), data_books_lda)"
   ]
  },
  {
   "cell_type": "markdown",
   "metadata": {},
   "source": [
    "<font color=\"#00586D\"> <i class=\"fa fa-pencil-square-o\" aria-hidden=\"true\" style=\"color:#00586D\"></i></font> Obtener los índices de los 10 libros más similares a `text_query`. Hay que tener en cuenta que `euclidean_distances` devuelve distancias, no similaridades, por lo que hay que tomar los primeros índices. "
   ]
  },
  {
   "cell_type": "code",
   "execution_count": 125,
   "metadata": {},
   "outputs": [
    {
     "data": {
      "text/plain": [
       "[16, 54, 134, 121, 5, 11, 3, 56, 116, 119]"
      ]
     },
     "execution_count": 125,
     "metadata": {},
     "output_type": "execute_result"
    }
   ],
   "source": [
    "pd.DataFrame(similarities_lda)[0].nlargest(10).index.to_list()"
   ]
  },
  {
   "cell_type": "code",
   "execution_count": 126,
   "metadata": {},
   "outputs": [
    {
     "data": {
      "text/plain": [
       "gr_book_id\n",
       "30      J.R.R. Tolkien 4-Book Boxed Set: The Hobbit an...\n",
       "431                                  The New York Trilogy\n",
       "1618    The Curious Incident of the Dog in the Night-Time\n",
       "1381                                          The Odyssey\n",
       "8       Harry Potter Boxed Set, Books 1-5 (Harry Potte...\n",
       "25      I'm a Stranger Here Myself: Notes on Returning...\n",
       "5       Harry Potter and the Prisoner of Azkaban (Harr...\n",
       "446                                  The Brooklyn Follies\n",
       "1307                  Fire Sea (The Death Gate Cycle, #3)\n",
       "1371                                            The Iliad\n",
       "Name: title, dtype: object"
      ]
     },
     "execution_count": 126,
     "metadata": {},
     "output_type": "execute_result"
    }
   ],
   "source": [
    "top_similarities = pd.DataFrame(similarities_lda)[0].nlargest(10).index.to_list()\n",
    "\n",
    "df_goodreads.iloc[top_similarities]['title']"
   ]
  },
  {
   "cell_type": "markdown",
   "metadata": {},
   "source": [
    "En este caso, la similaridad devuelve títulos de la saga, pero no solo eso, sino que incluye algún otro título con la misma temática. Esta diferencia también se plasmaría en el sistema de recomendación."
   ]
  },
  {
   "cell_type": "markdown",
   "metadata": {},
   "source": [
    "<font color=\"#00586D\"> <i class=\"fa fa-pencil-square-o\" aria-hidden=\"true\" style=\"color:#00586D\"></i></font> Salvar la matriz `data_books_ld` en el archivo `./data/data_books_lda.pickle`."
   ]
  },
  {
   "cell_type": "code",
   "execution_count": 127,
   "metadata": {},
   "outputs": [],
   "source": [
    "import pickle\n",
    "with open('./data/data_books_lda.pickle','wb') as f:\n",
    "     pickle.dump(data_books_lda, f)"
   ]
  },
  {
   "cell_type": "markdown",
   "metadata": {},
   "source": [
    "<div style=\"text-align: right\">\n",
    "<a href=\"#indice\"><font size=5><i class=\"fa fa-arrow-circle-up\" aria-hidden=\"true\" style=\"color:#00586D\"></i></font></a>\n",
    "</div>\n",
    "\n",
    "\n",
    "---\n",
    "\n",
    "<a id=\"Anexo\"></a> \n",
    "##  <font color=\"#00586D\"> Anexo. Obtención de los resúmenes mediante scraping   </font>\n",
    "<br>\n",
    "\n",
    "<br>\n",
    "Goodreads proporciona una API. Sin embargo, debido a que esta es algo obsoleta, y a que solamente se necesita la información relativa a los resúmenes, es posible obtenerla mediante scraping.\n",
    "\n",
    "<div class=\"alert alert-block alert-danger\">\n",
    "<i class=\"fa fa-exclamation-triangle\" aria-hidden=\"true\"></i>\n",
    "En sitios como IMDB está prohibido. Aquí no pone nada. Sin embargo, el sitio se proteje del exceso de peticiones, y no deja hacer más de una cada diez segundos ya que, cuando detecta que se supera este umbral, devuelve documentos aleatoriamente. \n",
    "</div>"
   ]
  },
  {
   "cell_type": "markdown",
   "metadata": {},
   "source": [
    "Las páginas tienen el formato `https://www.goodreads.com/book/show/book_id`. Por ejemplo,  [https://www.goodreads.com/book/show/320](https://www.goodreads.com/book/show/320) accede a la pagina relativa al libro \"100 años de soledad\" de Gabriel García Márquez. Al inspeccionar la página se encuentra que un objeto denominado `readable stacked` que contiene el resumen (a veces una versión larga y una corta). Es necesario extraer la última. "
   ]
  },
  {
   "cell_type": "code",
   "execution_count": 128,
   "metadata": {},
   "outputs": [
    {
     "data": {
      "text/plain": [
       "'The brilliant, bestselling, landmark novel that tells the story of the Buendia family, and chronicles the irreconcilable conflict between the desire for solitude and the need for love—in rich, imaginative prose that has come to define an entire genre known as \"magical realism.\"'"
      ]
     },
     "execution_count": 128,
     "metadata": {},
     "output_type": "execute_result"
    }
   ],
   "source": [
    "import requests\n",
    "from bs4 import BeautifulSoup\n",
    "\n",
    "def scrap_book_overview(book_id, save=False):\n",
    "    try:\n",
    "        # Se conecta a la página\n",
    "        url = \"https://www.goodreads.com/book/show/\"+str(book_id)\n",
    "        response = requests.get(url)\n",
    "        # Crea el objeto beautiful soup\n",
    "        soup = BeautifulSoup(response.text, 'lxml')\n",
    "        # Accede al componente\n",
    "        sec = soup.find(\"div\", {\"class\": \"readable stacked\"})\n",
    "        # Extrae la revisión\n",
    "        overview = sec.findAll('span')[-1]\n",
    "        # La almacena si procede\n",
    "        if not overview.text is None and save:\n",
    "            file = open(\"overviews/\"+str(book_id)+\".txt\",\"w\") \n",
    "            file.write(overview.text)\n",
    "            file.close()\n",
    "        return overview.text\n",
    "    except:\n",
    "        return None\n",
    "    \n",
    "scrap_book_overview(320)"
   ]
  },
  {
   "cell_type": "markdown",
   "metadata": {},
   "source": [
    "<div style=\"text-align: right\">\n",
    "<a href=\"#indice\"><font size=5><i class=\"fa fa-arrow-circle-up\" aria-hidden=\"true\" style=\"color:#00586D\"></i></font></a>\n",
    "</div>\n",
    "\n",
    "---\n",
    "\n",
    "<div style=\"text-align: right\"> <font size=6><i class=\"fa fa-coffee\" aria-hidden=\"true\" style=\"color:#00586D\"></i> </font></div>"
   ]
  }
 ],
 "metadata": {
  "kernelspec": {
   "display_name": "Python 3",
   "language": "python",
   "name": "python3"
  },
  "language_info": {
   "codemirror_mode": {
    "name": "ipython",
    "version": 3
   },
   "file_extension": ".py",
   "mimetype": "text/x-python",
   "name": "python",
   "nbconvert_exporter": "python",
   "pygments_lexer": "ipython3",
   "version": "3.8.5"
  }
 },
 "nbformat": 4,
 "nbformat_minor": 4
}
