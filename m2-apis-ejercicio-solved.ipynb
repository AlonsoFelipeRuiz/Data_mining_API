{
 "cells": [
  {
   "cell_type": "markdown",
   "metadata": {},
   "source": [
    "<img src=\"http://www.cidaen.es/assets/img/mCIDaeNnb.png\" alt=\"Logo CiDAEN\" align=\"right\">\n",
    "\n",
    "<br><br><br>\n",
    "<h2><font color=\"#00586D\" size=4>Módulo 2</font></h2>\n",
    "\n",
    "<h1><font color=\"#00586D\" size=5>Ejercicio SWAPI</font></h1>\n",
    "\n",
    "<br><br><br>\n",
    "<div style=\"text-align: right\">\n",
    "<font color=\"#00586D\" size=3>Jacinto Arias</font><br>\n",
    "<font color=\"#00586D\" size=3>Máster en Ciencia de Datos e Ingeniería de Datos en la Nube</font><br>\n",
    "<font color=\"#00586D\" size=3>Universidad de Castilla-La Mancha</font>\n",
    "\n",
    "</div>"
   ]
  },
  {
   "cell_type": "markdown",
   "metadata": {},
   "source": [
    "#   Ejercicio SWAPI\n",
    "\n",
    "**SWAPI** es una API pública creada para el aprendizaje de este tipo de tecnologías que contiene la información del universo de star wars.\n",
    "\n",
    "Podemos encontrarla en https://swapi.dev/ y su API es https://swapi.dev/api/\n",
    "\n",
    "\n",
    "##  Ejercicio 1\n",
    "\n",
    "Navega la documentación de SWAPI y familiarizate con los endpoints `/people` y `/films`\n"
   ]
  },
  {
   "cell_type": "code",
   "execution_count": null,
   "metadata": {},
   "outputs": [],
   "source": [
    "import requests"
   ]
  },
  {
   "cell_type": "code",
   "execution_count": null,
   "metadata": {},
   "outputs": [],
   "source": [
    "url = \"https://swapi.dev/api\""
   ]
  },
  {
   "cell_type": "code",
   "execution_count": null,
   "metadata": {
    "scrolled": true
   },
   "outputs": [],
   "source": [
    "requests.get(f\"{url}/people\").json()"
   ]
  },
  {
   "cell_type": "code",
   "execution_count": null,
   "metadata": {},
   "outputs": [],
   "source": [
    "requests.get(f\"{url}/people/1\").json()"
   ]
  },
  {
   "cell_type": "code",
   "execution_count": null,
   "metadata": {
    "scrolled": true
   },
   "outputs": [],
   "source": [
    "requests.get(f\"{url}/films\").json()"
   ]
  },
  {
   "cell_type": "markdown",
   "metadata": {},
   "source": [
    "\n",
    "##  Ejercicio 2\n",
    "\n",
    "Crear una función `search_people(name)`, que utilizando SWAPI y el endpoint `people?search=<string>` devuelva los campos `name` y `url` de los resultados que encuentre."
   ]
  },
  {
   "cell_type": "code",
   "execution_count": null,
   "metadata": {
    "ExecuteTime": {
     "end_time": "2018-11-12T19:26:58.447948Z",
     "start_time": "2018-11-12T19:26:58.444584Z"
    }
   },
   "outputs": [],
   "source": [
    "def search_people(name):\n",
    "    response = requests.get(f\"{url}/people?search={name}\").json()['results']\n",
    "    \n",
    "    l = [ dict(name=person['name'], url=person['url']) for person in response ]\n",
    "    \n",
    "    return l"
   ]
  },
  {
   "cell_type": "code",
   "execution_count": null,
   "metadata": {
    "ExecuteTime": {
     "end_time": "2018-11-12T19:27:12.493042Z",
     "start_time": "2018-11-12T19:27:10.611491Z"
    }
   },
   "outputs": [],
   "source": [
    "search_people(\"skywalker\")"
   ]
  },
  {
   "cell_type": "markdown",
   "metadata": {},
   "source": [
    "\n",
    "\n",
    "## <i class=\"fa fa-pencil-square-o\" aria-hidden=\"true\"></i> Ejercicio 3\n",
    " \n",
    "\n",
    "Crear una función `get_user_films(id)` para SWAPI que dado el id de una persona devuelva el siguiente json:\n",
    "\n",
    "```json\n",
    "{\n",
    "    \"name\": <name>,\n",
    "    \"films\": [\n",
    "        <title1>,\n",
    "        <title2>,\n",
    "        ...,\n",
    "        <titlen>\n",
    "    ]\n",
    "}\n",
    "```\n",
    "\n",
    "**PISTA:** El id de un personaje viene indicado por un número tal y como se incluye en el capo `url` que nos devuelve la API.\n",
    "\n",
    "**PISTA:** Básicamente la función debe llamar al endpoint `people/{id}` para obtener el nombre y las referencias a las películas para la persona indicada. Luego debe realizar (en un bucle) una llamada para cada endpoint de la película correspondiente y recuperar los títulos. Una vez realizado esto deberá componer el json final."
   ]
  },
  {
   "cell_type": "code",
   "execution_count": null,
   "metadata": {
    "ExecuteTime": {
     "end_time": "2018-11-12T19:31:31.704845Z",
     "start_time": "2018-11-12T19:31:31.700857Z"
    }
   },
   "outputs": [],
   "source": [
    "def get_user_films(user_id):\n",
    "    \n",
    "    response = requests.get(f\"{url}/people/{user_id}\").json()\n",
    "    \n",
    "    name = response['name']\n",
    "    films = [ requests.get(film).json()['title'] for film in response['films'] ]\n",
    "    \n",
    "    return {\n",
    "        'name': name,\n",
    "        'films': films\n",
    "    }\n"
   ]
  },
  {
   "cell_type": "code",
   "execution_count": null,
   "metadata": {
    "ExecuteTime": {
     "end_time": "2018-11-12T19:31:49.669196Z",
     "start_time": "2018-11-12T19:31:45.738175Z"
    }
   },
   "outputs": [],
   "source": [
    "get_user_films(5)"
   ]
  },
  {
   "cell_type": "markdown",
   "metadata": {},
   "source": [
    "## <i class=\"fa fa-pencil-square-o\" aria-hidden=\"true\"></i> Ejercicio 4\n",
    "\n",
    "Obten los nombres de los 50 primeros personajes que hay almacenados en la API.\n",
    "\n",
    "__Pregunta__ ¿Cuántos valores devuelve la API?\n",
    "\n",
    "__Respuesta__ Parece que la API devuelve cad vez un número limitado de elementos, esto se debe al factor de la __paginación__ que limita la cantidad de elementos que la API puede devolver cada vez y exige recuperar la información página a página. \n",
    "\n",
    "- En SWAPI la página se solicita con el queryparam `page`\n",
    "- Si  respuesta de una consulta contiene el campo `previous` o `next`nos indica la existencia de páginas antes o despues de la llamada actual"
   ]
  },
  {
   "cell_type": "code",
   "execution_count": null,
   "metadata": {},
   "outputs": [],
   "source": [
    "page = 0"
   ]
  },
  {
   "cell_type": "code",
   "execution_count": null,
   "metadata": {
    "scrolled": true
   },
   "outputs": [],
   "source": [
    "requests.get(f\"{url}/people?page={page}\").json()"
   ]
  },
  {
   "cell_type": "code",
   "execution_count": null,
   "metadata": {},
   "outputs": [],
   "source": [
    "people = []\n",
    "\n",
    "for page in range(1, 6):\n",
    "    people += requests.get(f\"{url}/people?page={page}\").json()[\"results\"]"
   ]
  },
  {
   "cell_type": "code",
   "execution_count": null,
   "metadata": {},
   "outputs": [],
   "source": [
    "len(people)"
   ]
  },
  {
   "cell_type": "code",
   "execution_count": null,
   "metadata": {},
   "outputs": [],
   "source": [
    "[p[\"name\"] for p in people[:50]]"
   ]
  },
  {
   "cell_type": "markdown",
   "metadata": {},
   "source": [
    "## <i class=\"fa fa-pencil-square-o\" aria-hidden=\"true\"></i> Ejercicio 5\n",
    "\n",
    "En este ejercicio crearemos una pequeña base de datos SQLite para almacenar las entidades `people` y `films` así como la relación entre ellas, donde un personaje ha podido participar en más de una pelicula y en una película aparecen más de un personaje."
   ]
  },
  {
   "cell_type": "code",
   "execution_count": null,
   "metadata": {},
   "outputs": [],
   "source": [
    "%load_ext sql"
   ]
  },
  {
   "cell_type": "code",
   "execution_count": null,
   "metadata": {},
   "outputs": [],
   "source": [
    "%sql sqlite:///swapi.db"
   ]
  },
  {
   "cell_type": "code",
   "execution_count": null,
   "metadata": {},
   "outputs": [],
   "source": [
    "%sql PRAGMA foreign_keys = ON"
   ]
  },
  {
   "cell_type": "markdown",
   "metadata": {},
   "source": [
    "Para poder hacer las insercciones podemos generar la query usando un string y luego incluirla en la consola de SQL. Por ejemplo"
   ]
  },
  {
   "cell_type": "code",
   "execution_count": null,
   "metadata": {},
   "outputs": [],
   "source": [
    "%%sql\n",
    "\n",
    "CREATE TABLE test (\n",
    "    test_id INTEGER PRIMARY KEY,\n",
    "    test_name VARCHAR(20)\n",
    ")"
   ]
  },
  {
   "cell_type": "markdown",
   "metadata": {},
   "source": [
    "Ahora hacemos los inserts"
   ]
  },
  {
   "cell_type": "code",
   "execution_count": null,
   "metadata": {},
   "outputs": [],
   "source": [
    "query = \"INSERT INTO test VALUES\"\n",
    "\n",
    "query += f\"\"\"({0}, \"test\")\"\"\""
   ]
  },
  {
   "cell_type": "markdown",
   "metadata": {},
   "source": [
    "Podemos lanzar una consulta desde una variable con `$`"
   ]
  },
  {
   "cell_type": "code",
   "execution_count": null,
   "metadata": {},
   "outputs": [],
   "source": [
    "%sql $query"
   ]
  },
  {
   "cell_type": "code",
   "execution_count": null,
   "metadata": {},
   "outputs": [],
   "source": [
    "%%sql\n",
    "\n",
    "SELECT * FROM test"
   ]
  },
  {
   "cell_type": "markdown",
   "metadata": {},
   "source": [
    "Recuerda que es posible incluir varios valores en un mismo insert, puedes crear un insert de muchos valores utilizando un bucle"
   ]
  },
  {
   "cell_type": "markdown",
   "metadata": {},
   "source": [
    "### <i class=\"fa fa-pencil-square-o\" aria-hidden=\"true\"></i> Ejercicio 5.1\n",
    "\n",
    "Crea la tabla para la entidad `films`, incluye los siguientes campos\n",
    "\n",
    "- `film_id`\n",
    "- `episode_id` ue será la clave primaria y tomará el valor del campo `episode_id` que nos devuelve la API y que identifica a cada película\n",
    "- `title`\n",
    "- `director`\n",
    "\n",
    "La clave primaria film_id tomará el valor númerico que se encuentra al final del campo `url` que nos devuelve la API y que identifica a cada película, para poder extraer este valor podemos separar la url utilizando `split` y obtener el valor en la posición correspondiente. Por ejemplo de la url `https://swapi.dev/api/films/1/` deberíamos obtener el valor `1`\n",
    "\n",
    "Después realiza una llamada a la API e introduce todas las peliculas devueltas como filas de la tabla recién creada"
   ]
  },
  {
   "cell_type": "code",
   "execution_count": null,
   "metadata": {},
   "outputs": [],
   "source": [
    "%%sql\n",
    "\n",
    "CREATE TABLE films (\n",
    "    film_id INTEGER PRIMARY KEY,\n",
    "    episode_id INTEGER,\n",
    "    title VARCHAR(20),\n",
    "    director VARCHAR(20),\n",
    "    release_date VARCHAR(20)\n",
    ")"
   ]
  },
  {
   "cell_type": "code",
   "execution_count": null,
   "metadata": {},
   "outputs": [],
   "source": [
    "def get_insert_film(films):\n",
    "       \n",
    "    query = f\"\"\"INSERT INTO films VALUES\"\"\"\n",
    "\n",
    "    for i, f in enumerate(films):\n",
    "        query += f\"\"\"({f['url'].split(\"/\")[-2]}, {f['episode_id']}, \"{f['title']}\", \"{f['director']}\", \"{f['release_date']}\")\"\"\" + \",\"\n",
    "    \n",
    "    return query[:-1]"
   ]
  },
  {
   "cell_type": "code",
   "execution_count": null,
   "metadata": {},
   "outputs": [],
   "source": [
    "films = requests.get(f\"{url}/films\").json()"
   ]
  },
  {
   "cell_type": "code",
   "execution_count": null,
   "metadata": {},
   "outputs": [],
   "source": [
    "q = get_insert_film(films[\"results\"])"
   ]
  },
  {
   "cell_type": "code",
   "execution_count": null,
   "metadata": {},
   "outputs": [],
   "source": [
    "%sql $q"
   ]
  },
  {
   "cell_type": "code",
   "execution_count": null,
   "metadata": {},
   "outputs": [],
   "source": [
    "%%sql\n",
    "\n",
    "SELECT * FROM films"
   ]
  },
  {
   "cell_type": "markdown",
   "metadata": {},
   "source": [
    "### <i class=\"fa fa-pencil-square-o\" aria-hidden=\"true\"></i> Ejercicio 5.2\n",
    "\n",
    "Crea la tabla para la entidad `people`, incluye los siguientes campos\n",
    "\n",
    "- `person_id` \n",
    "- `name`\n",
    "- `height`\n",
    "- `mass`\n",
    "- `hair_color`\n",
    "\n",
    "La clave primaria person_id tomará el valor númerico que se encuentra al final del campo `url` que nos devuelve la API y que identifica a cada personaje, para poder extraer este valor podemos separar la url utilizando `split` y obtener el valor en la posición correspondiente. Por ejemplo de la url `https://swapi.dev/api/people/1/` deberíamos obtener el valor `1`\n",
    "\n",
    "Una vez creada la tabla después realiza una llamada a la API e introduce todas las personas devueltas como filas de la tabla recién creada"
   ]
  },
  {
   "cell_type": "code",
   "execution_count": null,
   "metadata": {},
   "outputs": [],
   "source": [
    "%sql DROP TABLE people"
   ]
  },
  {
   "cell_type": "code",
   "execution_count": null,
   "metadata": {},
   "outputs": [],
   "source": [
    "%%sql\n",
    "\n",
    "CREATE TABLE people (\n",
    "    person_id INTEGER PRIMARY KEY,\n",
    "    name VARCHAR(20),\n",
    "    height INTEGER,\n",
    "    mass INTEGER,\n",
    "    hair_color VARCHAR(20)\n",
    ")"
   ]
  },
  {
   "cell_type": "code",
   "execution_count": null,
   "metadata": {},
   "outputs": [],
   "source": [
    "def get_insert_people(people):\n",
    "       \n",
    "    query = f\"\"\"INSERT INTO people VALUES\"\"\"\n",
    "\n",
    "    for i, p in enumerate(people):\n",
    "        query += f\"\"\"(\"{p['url'].split(\"/\")[-2]}\", \"{p['name']}\", \"{p['height']}\", \"{p['mass']}\", \"{p['hair_color']}\")\"\"\" + \",\"\n",
    "    \n",
    "    return query[:-1]"
   ]
  },
  {
   "cell_type": "code",
   "execution_count": null,
   "metadata": {},
   "outputs": [],
   "source": [
    "people = requests.get(f\"{url}/people\").json()[\"results\"]"
   ]
  },
  {
   "cell_type": "code",
   "execution_count": null,
   "metadata": {},
   "outputs": [],
   "source": [
    "q = get_insert_people(people)"
   ]
  },
  {
   "cell_type": "code",
   "execution_count": null,
   "metadata": {},
   "outputs": [],
   "source": [
    "%sql $q"
   ]
  },
  {
   "cell_type": "code",
   "execution_count": null,
   "metadata": {},
   "outputs": [],
   "source": [
    "%%sql\n",
    "\n",
    "SELECT * FROM people"
   ]
  },
  {
   "cell_type": "markdown",
   "metadata": {},
   "source": [
    "### <i class=\"fa fa-pencil-square-o\" aria-hidden=\"true\"></i> Ejercicio 5.3\n",
    "\n",
    "Crea la tabla para la entidad `people_in_films` que modele la relación entre cada persona y las películas en las que aparece\n",
    "\n",
    "__Pista:__ Habrá una fila para cada película y persona\n",
    "\n",
    "Utiliza los datos obtenidos de la API para rellenar esta tabla"
   ]
  },
  {
   "cell_type": "code",
   "execution_count": null,
   "metadata": {},
   "outputs": [],
   "source": [
    "%sql DROP TABLE people_in_films"
   ]
  },
  {
   "cell_type": "code",
   "execution_count": null,
   "metadata": {},
   "outputs": [],
   "source": [
    "%%sql\n",
    "\n",
    "CREATE TABLE people_in_films (\n",
    "    person_id INTEGER,\n",
    "    film_id INTEGER,\n",
    "    \n",
    "    FOREIGN KEY(person_id) REFERENCES people(person_id),\n",
    "    FOREIGN KEY(film_id) REFERENCES films(film_id)\n",
    ")"
   ]
  },
  {
   "cell_type": "code",
   "execution_count": null,
   "metadata": {},
   "outputs": [],
   "source": [
    "def get_insert_film(people):\n",
    "       \n",
    "    query = f\"\"\"INSERT INTO people_in_films VALUES\"\"\"\n",
    "\n",
    "    for i, p in enumerate(people):\n",
    "        for f in p[\"films\"]:\n",
    "            query += f\"\"\"(\"{p['url'].split(\"/\")[-2]}\", \"{f.split(\"/\")[-2]}\")\"\"\" + \",\"\n",
    "    \n",
    "    return query[:-1]"
   ]
  },
  {
   "cell_type": "code",
   "execution_count": null,
   "metadata": {},
   "outputs": [],
   "source": [
    "q = get_insert_film(people)"
   ]
  },
  {
   "cell_type": "code",
   "execution_count": null,
   "metadata": {},
   "outputs": [],
   "source": [
    "%sql $q"
   ]
  },
  {
   "cell_type": "markdown",
   "metadata": {},
   "source": [
    "### <i class=\"fa fa-pencil-square-o\" aria-hidden=\"true\"></i> Ejercicio 5.4\n",
    "\n",
    "Realiza una consulta donde obtengamos el nombre y el título de cada persona y cada película"
   ]
  },
  {
   "cell_type": "code",
   "execution_count": null,
   "metadata": {},
   "outputs": [],
   "source": [
    "%%sql res <<\n",
    "\n",
    "SELECT \n",
    "    f.title,\n",
    "    p.name\n",
    "FROM films f\n",
    "JOIN people_in_films pf ON f.film_id = pf.film_id\n",
    "JOIN people p ON pf.person_id = p.person_id"
   ]
  },
  {
   "cell_type": "code",
   "execution_count": null,
   "metadata": {},
   "outputs": [],
   "source": [
    "res.DataFrame().head()"
   ]
  },
  {
   "cell_type": "markdown",
   "metadata": {},
   "source": [
    "### <i class=\"fa fa-pencil-square-o\" aria-hidden=\"true\"></i> Ejercicio 5.5\n",
    "\n",
    "Realiza una consulta donde obtengamos el total de personajes que aparecen en cada película"
   ]
  },
  {
   "cell_type": "code",
   "execution_count": null,
   "metadata": {},
   "outputs": [],
   "source": [
    "%%sql res <<\n",
    "\n",
    "SELECT \n",
    "    f.title,\n",
    "    count(*) total_people\n",
    "FROM films f\n",
    "JOIN people_in_films pf ON f.film_id = pf.film_id\n",
    "JOIN people p ON pf.person_id = p.person_id\n",
    "GROUP BY f.title"
   ]
  },
  {
   "cell_type": "code",
   "execution_count": null,
   "metadata": {},
   "outputs": [],
   "source": [
    "res.DataFrame().head()"
   ]
  },
  {
   "cell_type": "markdown",
   "metadata": {},
   "source": [
    "### <i class=\"fa fa-pencil-square-o\" aria-hidden=\"true\"></i> Ejercicio 5.6\n",
    "\n",
    "Realiza una consulta donde obtengamos el número de películas en las que aparece cada personaje"
   ]
  },
  {
   "cell_type": "code",
   "execution_count": null,
   "metadata": {},
   "outputs": [],
   "source": [
    "%%sql res <<\n",
    "\n",
    "SELECT \n",
    "    p.name,\n",
    "    count(*) total_films\n",
    "FROM films f\n",
    "JOIN people_in_films pf ON f.film_id = pf.film_id\n",
    "JOIN people p ON pf.person_id = p.person_id\n",
    "GROUP BY p.name"
   ]
  },
  {
   "cell_type": "code",
   "execution_count": null,
   "metadata": {},
   "outputs": [],
   "source": [
    "res.DataFrame().head()"
   ]
  },
  {
   "cell_type": "markdown",
   "metadata": {},
   "source": [
    "## Ejercicio 6\n",
    "\n",
    "En este ejercicio reproduciremos una API similar a SWAPI utilizando flask.\n",
    "\n",
    "Para escribir un código de calidad configuraremos sqlite3 para que al realizar las consultas pueda recibir datos a modo de diccionario, como podemos comprobar en el siguiente código"
   ]
  },
  {
   "cell_type": "code",
   "execution_count": null,
   "metadata": {},
   "outputs": [],
   "source": [
    "import sqlite3"
   ]
  },
  {
   "cell_type": "code",
   "execution_count": null,
   "metadata": {},
   "outputs": [],
   "source": [
    "con = sqlite3.connect(\"swapi.db\")\n",
    "con.row_factory = sqlite3.Row"
   ]
  },
  {
   "cell_type": "code",
   "execution_count": null,
   "metadata": {},
   "outputs": [],
   "source": [
    "query = f\"SELECT * FROM people LIMIT 10\"\n",
    "\n",
    "cur = con.cursor()\n",
    "\n",
    "# Return all results of query\n",
    "cur.execute(query)\n",
    "data = cur.fetchall()\n",
    "body = [dict(d) for d in data]\n"
   ]
  },
  {
   "cell_type": "code",
   "execution_count": null,
   "metadata": {
    "scrolled": true
   },
   "outputs": [],
   "source": [
    "body"
   ]
  },
  {
   "cell_type": "markdown",
   "metadata": {},
   "source": [
    "### Ejercicio 6.1\n",
    "\n",
    "Crea una API en flask con una función `/people` que liste el contenido de la tabla correspondiente en SQL"
   ]
  },
  {
   "cell_type": "code",
   "execution_count": null,
   "metadata": {},
   "outputs": [],
   "source": [
    "from flask import Flask, jsonify, request"
   ]
  },
  {
   "cell_type": "code",
   "execution_count": null,
   "metadata": {},
   "outputs": [],
   "source": [
    "app = Flask(__name__)\n",
    "\n",
    "@app.route(\"/people\", methods=['GET'])\n",
    "def get_people():\n",
    "    \n",
    "    # Si ejecutamos esto dentro de una app independiente podemos reusar la conexi'on\n",
    "    con = sqlite3.connect(\"swapi.db\")\n",
    "    con.row_factory = sqlite3.Row\n",
    "    \n",
    "    name = request.args.get(\"name\", \"\")\n",
    "    \n",
    "    query = f\"SELECT * FROM people WHERE name\"\n",
    "    \n",
    "    cur = con.cursor()\n",
    "    cur.execute(query)\n",
    "    data = cur.fetchall()\n",
    "    body = [dict(d) for d in data]\n",
    "    \n",
    "    return jsonify(body)\n",
    "\n",
    "    # Si ejecutamos esto dentro de una app independiente podemos reusar la conexi'on\n",
    "    con.close()\n",
    "\n",
    "app.run(host=\"localhost\")"
   ]
  },
  {
   "cell_type": "markdown",
   "metadata": {},
   "source": [
    "### Ejercicio 6.2\n",
    "\n",
    "Modifica la función anterior para que permita filtrar las personas por nombre usando un query string parameter llamado `name`"
   ]
  },
  {
   "cell_type": "code",
   "execution_count": null,
   "metadata": {},
   "outputs": [],
   "source": [
    "app = Flask(__name__)\n",
    "\n",
    "@app.route(\"/people\", methods=['GET'])\n",
    "def get_people():\n",
    "    \n",
    "    # Si ejecutamos esto dentro de una app independiente podemos reusar la conexi'on\n",
    "    con = sqlite3.connect(\"swapi.db\")\n",
    "    con.row_factory = sqlite3.Row\n",
    "    \n",
    "    name = request.args.get(\"name\", \"\")\n",
    "    \n",
    "    query = f\"SELECT * FROM people WHERE name LIKE '%{name}%' LIMIT 10\"\n",
    "    \n",
    "    cur = con.cursor()\n",
    "    cur.execute(query)\n",
    "    data = cur.fetchall()\n",
    "    body = [dict(d) for d in data]\n",
    "    \n",
    "    return jsonify(body)\n",
    "\n",
    "    # Si ejecutamos esto dentro de una app independiente podemos reusar la conexi'on\n",
    "    con.close()\n",
    "\n",
    "app.run(host=\"localhost\")"
   ]
  },
  {
   "cell_type": "markdown",
   "metadata": {},
   "source": [
    "### Ejercicio 6.3\n",
    "\n",
    "Crea una API en flask con una función `/people/<person_id>:` que devuelva la persona con el id correspondiente de la tabla people"
   ]
  },
  {
   "cell_type": "code",
   "execution_count": null,
   "metadata": {},
   "outputs": [],
   "source": [
    "app = Flask(__name__)\n",
    "\n",
    "@app.route(\"/people/<person_id>\", methods=['GET'])\n",
    "def get_people_person_id(person_id):\n",
    "    \n",
    "    # Si ejecutamos esto dentro de una app independiente podemos reusar la conexi'on\n",
    "    con = sqlite3.connect(\"swapi.db\")\n",
    "    con.row_factory = sqlite3.Row\n",
    "    \n",
    "    query = f\"SELECT * FROM people WHERE person_id = {person_id}\"\n",
    "    \n",
    "    cur = con.cursor()\n",
    "    cur.execute(query)\n",
    "    data = cur.fetchall()\n",
    "    body = [dict(d) for d in data]\n",
    "    \n",
    "    return jsonify(body)\n",
    "\n",
    "    # Si ejecutamos esto dentro de una app independiente podemos reusar la conexi'on\n",
    "    con.close()\n",
    "\n",
    "app.run(host=\"localhost\")"
   ]
  },
  {
   "cell_type": "markdown",
   "metadata": {},
   "source": [
    "### Ejercicio 6.4\n",
    "\n",
    "Crea una API en flask con una función `/people/<perosn_id>/films` que liste las películas para la persona correspondiente"
   ]
  },
  {
   "cell_type": "code",
   "execution_count": null,
   "metadata": {},
   "outputs": [],
   "source": [
    "app = Flask(__name__)\n",
    "\n",
    "@app.route(\"/people/<person_id>/films\", methods=['GET'])\n",
    "def get_people_person_id_films(person_id):\n",
    "    \n",
    "    # Si ejecutamos esto dentro de una app independiente podemos reusar la conexi'on\n",
    "    con = sqlite3.connect(\"swapi.db\")\n",
    "    con.row_factory = sqlite3.Row\n",
    "    \n",
    "    query = f\"\"\"\n",
    "        SELECT \n",
    "            f.film_id,\n",
    "            f.episode_id,\n",
    "            f.title\n",
    "        FROM films f\n",
    "        JOIN people_in_films pf ON f.film_id = pf.film_id\n",
    "        JOIN people p ON pf.person_id = p.person_id AND p.person_id = {person_id}\n",
    "    \"\"\"\n",
    "    \n",
    "    cur = con.cursor()\n",
    "    cur.execute(query)\n",
    "    data = cur.fetchall()\n",
    "    body = [dict(d) for d in data]\n",
    "    \n",
    "    return jsonify(body)\n",
    "\n",
    "    # Si ejecutamos esto dentro de una app independiente podemos reusar la conexi'on\n",
    "    con.close()\n",
    "\n",
    "app.run(host=\"localhost\")"
   ]
  }
 ],
 "metadata": {
  "kernelspec": {
   "display_name": "Python 3",
   "language": "python",
   "name": "python3"
  },
  "language_info": {
   "codemirror_mode": {
    "name": "ipython",
    "version": 3
   },
   "file_extension": ".py",
   "mimetype": "text/x-python",
   "name": "python",
   "nbconvert_exporter": "python",
   "pygments_lexer": "ipython3",
   "version": "3.8.5"
  }
 },
 "nbformat": 4,
 "nbformat_minor": 4
}
